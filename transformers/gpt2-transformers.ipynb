{
 "cells": [
  {
   "cell_type": "markdown",
   "metadata": {},
   "source": [
    "# GPT-2\n",
    "playing with gpt2"
   ]
  },
  {
   "cell_type": "code",
   "execution_count": 1,
   "metadata": {},
   "outputs": [
    {
     "name": "stderr",
     "output_type": "stream",
     "text": [
      "/home/vscode/.local/lib/python3.10/site-packages/tqdm/auto.py:22: TqdmWarning: IProgress not found. Please update jupyter and ipywidgets. See https://ipywidgets.readthedocs.io/en/stable/user_install.html\n",
      "  from .autonotebook import tqdm as notebook_tqdm\n",
      "2022-06-03 22:39:41.856937: W tensorflow/stream_executor/platform/default/dso_loader.cc:64] Could not load dynamic library 'libcudart.so.11.0'; dlerror: libcudart.so.11.0: cannot open shared object file: No such file or directory\n",
      "2022-06-03 22:39:41.856971: I tensorflow/stream_executor/cuda/cudart_stub.cc:29] Ignore above cudart dlerror if you do not have a GPU set up on your machine.\n"
     ]
    }
   ],
   "source": [
    "from transformers import pipeline, set_seed"
   ]
  },
  {
   "cell_type": "code",
   "execution_count": 8,
   "metadata": {},
   "outputs": [
    {
     "name": "stderr",
     "output_type": "stream",
     "text": [
      "Downloading: 100%|██████████| 762/762 [00:00<00:00, 412kB/s]\n",
      "Downloading: 100%|██████████| 336M/336M [00:11<00:00, 30.3MB/s] \n",
      "Downloading: 100%|██████████| 0.99M/0.99M [00:00<00:00, 2.54MB/s]\n",
      "Downloading: 100%|██████████| 446k/446k [00:00<00:00, 1.91MB/s]\n",
      "Downloading: 100%|██████████| 1.29M/1.29M [00:00<00:00, 1.58MB/s]\n"
     ]
    }
   ],
   "source": [
    "generator = pipeline('text-generation', model='distilgpt2')\n",
    "set_seed(42)"
   ]
  },
  {
   "cell_type": "code",
   "execution_count": 9,
   "metadata": {},
   "outputs": [
    {
     "name": "stderr",
     "output_type": "stream",
     "text": [
      "The attention mask and the pad token id were not set. As a consequence, you may observe unexpected behavior. Please pass your input's `attention_mask` to obtain reliable results.\n",
      "Setting `pad_token_id` to `eos_token_id`:50256 for open-end generation.\n"
     ]
    },
    {
     "data": {
      "text/plain": [
       "[{'generated_text': 'AI is __________________'},\n",
       " {'generated_text': \"AI is !!\\n\\nA lot of people are still asking me what happened to his family, and I have to explain how he lost his son on a plane. My mother lost so little, so many lives… My father never loved a son anymore, so much for that he was a bit out of luck.\\nSo now I am going to explain some details – he got his own son, and all his belongings and now it is a tragedy not only because his daughter was gone but also because his father didn't really understand it and couldn't take any care of it anymore; because he had the same situation as his mother and I, so he doesn't understand it anymore. Since I don't know if he took his place and didn't take care of it anymore, I had no need for help anymore.\\nThe most obvious answer is the reason for why the children weren't safe to go with him. I do not want to be that way, but I just don't want\"},\n",
       " {'generated_text': 'AI is \\ue003-\\ue003-\\ue003-\\ue003-\\ue003-\\ue003-\\ue003-\\ue003-\\ue003-Ń-\\ue003-\\ue003-\\ue003-\\ue003-\\ue003-\\ue003-\\ue003-\\ue003-\\ue003-\\ue003-\\ue003-\\ue003-\\ue003-\\ue003-\\ue003-\\ue003-\\ue003-\\ue003-\\ue003-\\ue003-\\ue003-\\ue003-\\ue003-\\ue003-\\ue003-\\ue003-\\ue003-\\ue003-\\ue003-\\ue003-\\ue003-\\ue003-\\ue003-\\ue003-\\ue003-\\ue003-\\ue003-\\ue003-\\ue003-\\ue003-\\ue003-\\ue003-\\ue003-\\ue003-\\ue003-\\ue003-\\ue003-\\ue003-\\ue003-\\ue003-\\ue003-\\ue003-\\ue003-\\ue003-\\ue003-\\ue003'},\n",
       " {'generated_text': 'AI is \\xa0 the third place in the World Wide Coding Contest.\\nAs such, many students, and developers, continue to look to the world to work together to write code, and develop open source code. The results of this workshop, a list of 15 main topics, highlight the many contributions by the students, and explore other aspects of the code that have gone into development.\\nThis workshop takes a lot of time but can cover everything from a simple approach and to the needs of the development community.\\nWith my focus on the topic of working in tandem, I hope that I will bring you one more entry that will bring you a look at the most important features of the Code and its development style.\\n1. How a Code Designer and Developer Looks at the Code\\nBefore we begin, let’s discuss the topic which should be studied and discussed throughout the course.\\nHow Code Designer Loves JavaScript\\nAs a Web designer, I hope to take a look at JavaScript'},\n",
       " {'generated_text': 'AI is icky, like my father, who likes to have a beer in his garden. But now he is going to the restaurant again to open a delicious breakfast and an appetizer.\\n\\n\\n\\nWell, for most of us, this is just a game we just did. The players don‿t even know what, what exactly, something is going on in this case!\\nAnd finally, maybe it‿s just another game? Maybe in the next 3 years, the first one has become the theme of our game. It‿s about the characters and story to bring out a certain kind of action when everything revolves around the character.\\nAnyway, to summarize, this is an excellent game for any person with strong morals and love of the game.\\nAnd, don‿t you think we have ever met this game? You know, I like talking to people with a few ideas about how we should do this.\\n(I love music or movies)'}]"
      ]
     },
     "execution_count": 9,
     "metadata": {},
     "output_type": "execute_result"
    }
   ],
   "source": [
    "output = generator(\"AI is \", max_length=200, num_return_sequences=5) # Unfuck the attention thing\n",
    "output"
   ]
  }
 ],
 "metadata": {
  "interpreter": {
   "hash": "949777d72b0d2535278d3dc13498b2535136f6dfe0678499012e853ee9abcab1"
  },
  "kernelspec": {
   "display_name": "Python 3.10.2 64-bit",
   "language": "python",
   "name": "python3"
  },
  "language_info": {
   "codemirror_mode": {
    "name": "ipython",
    "version": 3
   },
   "file_extension": ".py",
   "mimetype": "text/x-python",
   "name": "python",
   "nbconvert_exporter": "python",
   "pygments_lexer": "ipython3",
   "version": "3.10.2"
  },
  "orig_nbformat": 4
 },
 "nbformat": 4,
 "nbformat_minor": 2
}
