{
 "cells": [
  {
   "cell_type": "markdown",
   "metadata": {},
   "source": [
    "Playing with the largest lanugae model my machine can take"
   ]
  },
  {
   "cell_type": "code",
   "execution_count": 2,
   "metadata": {},
   "outputs": [],
   "source": [
    "from transformers import AutoModelForCausalLM, AutoTokenizer\n",
    "import torch"
   ]
  },
  {
   "cell_type": "markdown",
   "metadata": {},
   "source": [
    "load it up..... (61 gigs of ram)"
   ]
  },
  {
   "cell_type": "code",
   "execution_count": 3,
   "metadata": {},
   "outputs": [
    {
     "data": {
      "text/plain": [
       "transformers.models.gptj.modeling_gptj.GPTJForCausalLM"
      ]
     },
     "execution_count": 3,
     "metadata": {},
     "output_type": "execute_result"
    }
   ],
   "source": [
    "tokenizer = AutoTokenizer.from_pretrained(\"EleutherAI/gpt-j-6B\")\n",
    "model = AutoModelForCausalLM.from_pretrained(\"EleutherAI/gpt-j-6B\")\n",
    "type(model)"
   ]
  },
  {
   "cell_type": "markdown",
   "metadata": {},
   "source": [
    "The default example, just autofilling stuff"
   ]
  },
  {
   "cell_type": "code",
   "execution_count": 4,
   "metadata": {},
   "outputs": [
    {
     "name": "stderr",
     "output_type": "stream",
     "text": [
      "The attention mask and the pad token id were not set. As a consequence, you may observe unexpected behavior. Please pass your input's `attention_mask` to obtain reliable results.\n",
      "Setting `pad_token_id` to `eos_token_id`:50256 for open-end generation.\n",
      "2022-06-24 18:40:03.350449: W tensorflow/stream_executor/platform/default/dso_loader.cc:64] Could not load dynamic library 'libcudart.so.11.0'; dlerror: libcudart.so.11.0: cannot open shared object file: No such file or directory\n",
      "2022-06-24 18:40:03.350489: I tensorflow/stream_executor/cuda/cudart_stub.cc:29] Ignore above cudart dlerror if you do not have a GPU set up on your machine.\n"
     ]
    },
    {
     "name": "stdout",
     "output_type": "stream",
     "text": [
      "A computer is a powerful tool for performing a variety of tasks. A computer is a highly complex machine that includes a central processing unit (CPU) and memory. The CPU is the heart of the computer. The CPU executes instructions from memory. A typical computer may have a single CPU or multiple CPUs. A computer may have multiple CPUs that are connected to a single memory. A typical computer may have multiple memories. A typical computer may have multiple memories that are connected to a single CPU.\n",
      "The memory stores data and instructions that are used by the CPU to perform a variety of tasks. The memory may be volatile or non-volatile. A volatile memory may lose its data if the power is turned off. The volatile memory may include random access memory (RAM) and dynamic RAM (DRAM). A non-volatile memory may maintain its data even if the power is turned off. The non-volatile memory may include read only memory (ROM), magnetic storage devices (e.g., hard disks, floppy disks, etc.), optical storage devices (e.g., compact discs (CDs), digital versatile discs (DVDs), etc.), and solid state storage devices (e.g., flash memory, etc.).\n",
      "The memory may be connected to the CPU through a memory controller. The memory controller may be a circuit that receives data from the memory and provides the data to the CPU. The memory controller may also receive data from the CPU and provide the data to the memory.\n",
      "The memory controller may include a memory interface. The memory interface may be a circuit that receives data from the CPU and provides the data to the memory. The memory interface may also receive data from the memory and provide the data to the CPU. The memory interface may include a memory bus. The memory bus may be a circuit that provides data from the CPU to the memory controller and provides data from the memory controller to the CPU. The memory bus may also include a plurality of memory address lines, a plurality of data lines, and a plurality of control lines. The memory address lines may be used to provide memory addresses to the memory controller. The data lines may be used to provide data to the memory controller. The control lines may be used to provide control signals to the memory controller.\n",
      "The memory controller may include a clock generator. The clock generator may be a circuit that generates a clock signal. The clock signal may be used to synchronize data transfers between the CPU and the memory. The memory controller\n"
     ]
    }
   ],
   "source": [
    "prompt = (\n",
    "    \"A computer is a\"\n",
    ")\n",
    "\n",
    "input_ids = tokenizer(prompt, return_tensors=\"pt\").input_ids\n",
    "input_ids = input_ids\n",
    "\n",
    "gen_tokens = model.generate(\n",
    "    input_ids,\n",
    "    do_sample=True,\n",
    "    temperature=0.6,\n",
    "    top_p=0.9,\n",
    "    max_length=500,\n",
    ")\n",
    "gen_text = tokenizer.batch_decode(gen_tokens)[0]\n",
    "print(gen_text)"
   ]
  }
 ],
 "metadata": {
  "kernelspec": {
   "display_name": "Python 3.10.2 64-bit",
   "language": "python",
   "name": "python3"
  },
  "language_info": {
   "codemirror_mode": {
    "name": "ipython",
    "version": 3
   },
   "file_extension": ".py",
   "mimetype": "text/x-python",
   "name": "python",
   "nbconvert_exporter": "python",
   "pygments_lexer": "ipython3",
   "version": "3.10.2"
  },
  "orig_nbformat": 4,
  "vscode": {
   "interpreter": {
    "hash": "949777d72b0d2535278d3dc13498b2535136f6dfe0678499012e853ee9abcab1"
   }
  }
 },
 "nbformat": 4,
 "nbformat_minor": 2
}
