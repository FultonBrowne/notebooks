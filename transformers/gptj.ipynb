{
 "cells": [
  {
   "cell_type": "markdown",
   "metadata": {},
   "source": [
    "Playing with the largest lanugae model my machine can take"
   ]
  },
  {
   "cell_type": "code",
   "execution_count": 1,
   "metadata": {},
   "outputs": [],
   "source": [
    "from transformers import AutoModelForCausalLM, AutoTokenizer\n",
    "import torch"
   ]
  },
  {
   "cell_type": "markdown",
   "metadata": {},
   "source": [
    "load it up..... (61 gigs of ram)"
   ]
  },
  {
   "cell_type": "code",
   "execution_count": 2,
   "metadata": {},
   "outputs": [
    {
     "data": {
      "text/plain": [
       "transformers.models.gptj.modeling_gptj.GPTJForCausalLM"
      ]
     },
     "execution_count": 2,
     "metadata": {},
     "output_type": "execute_result"
    }
   ],
   "source": [
    "tokenizer = AutoTokenizer.from_pretrained(\"EleutherAI/gpt-j-6B\")\n",
    "model = AutoModelForCausalLM.from_pretrained(\"EleutherAI/gpt-j-6B\")\n",
    "type(model)"
   ]
  },
  {
   "cell_type": "markdown",
   "metadata": {},
   "source": [
    "The default example, just autofilling stuff"
   ]
  },
  {
   "cell_type": "code",
   "execution_count": 6,
   "metadata": {},
   "outputs": [
    {
     "name": "stderr",
     "output_type": "stream",
     "text": [
      "The attention mask and the pad token id were not set. As a consequence, you may observe unexpected behavior. Please pass your input's `attention_mask` to obtain reliable results.\n",
      "Setting `pad_token_id` to `eos_token_id`:50256 for open-end generation.\n"
     ]
    },
    {
     "name": "stdout",
     "output_type": "stream",
     "text": [
      "In a shocking finding, scientists discovered a herd of unicorns living in a remote, previously unexplored valley, in the Andes Mountains. Even more surprising to the researchers was the fact that the unicorns spoke perfect English.\n",
      "\n",
      "Researchers from the National University of Córdoba in Argentina recently discovered a herd of unicorns living in the mountains of the Peruvian Andes. The researchers, who were conducting a study of wild animal behavior in the area, found that the unicorn herd was in a valley that had not been explored for years.\n",
      "\n",
      "“We’ve been looking for the herd for more than five years. When we entered the valley, we found the herd,” said researcher Miguel Sánchez, according to the BBC.\n",
      "\n",
      "The researchers, who were traveling in a jeep with a local guide, were taken by surprise when they spotted the herd of unicorns. The unicorns are one of the world’s most elusive and mysterious creatures, and no one had ever seen one in the wild before.\n",
      "\n",
      "Sánchez, who is a biologist specializing in primates and was leading the study, said that the herd was comprised of at least 30 unicorns and included adult males, females and newborns.\n",
      "\n",
      "“They were really calm and there were no signs of danger,” Sánchez said. “We didn’t see any aggression or any sign of a fight.”\n",
      "\n",
      "The unicorns were living in the valley, which the researchers referred to as “El Géminal,” which is the Spanish word for “Genital Valley.” It is located in the Cusco Region of the Andes, which is known as the “Andes of the Kings.”\n",
      "\n",
      "“This is the highest valley in the Cusco region,” Sánchez said. “We had never seen a herd of animals living in that area.”\n",
      "\n",
      "The researchers, who had a local man take them to the valley, said that the herd of unicorns was living in a protected area. The unicorns were roaming the valley freely, and the researchers did not have to do anything to keep them from leaving.\n",
      "\n",
      "The researchers said that they were able to communicate with the unicorns, and they discovered that the unicorns had been living in the valley for at least five years. The unicorns were also able to communicate with the researchers by using gestures.\n",
      "\n",
      "“They are very intelligent,” Sánchez said. “We were able to communicate with them.”\n",
      "\n",
      "Researchers were also amazed to learn that the unicorns spoke perfect English.\n",
      "\n",
      "“They were using gestures and we could understand everything they were saying,” Sánchez said.\n",
      "\n",
      "According to the researchers, the unicorns were very calm and they seemed to be having a great time in their new environment. The unicorns had no fear of the researchers, and they would follow them around and even approach them.\n",
      "\n",
      "“We didn’t find any signs of aggression,” Sánchez said. “They were really calm.”\n",
      "\n",
      "The researchers have no idea why the unicorns had been living in the valley for so long.\n",
      "\n",
      "“They were never seen in the area before,” Sánchez said. “Maybe they came from somewhere else.”\n",
      "\n",
      "Sánchez said that the unicorns were not domesticated, and they were not part of a zoo. He said that the unicorns were not captive and that they were wild.\n",
      "\n",
      "“We don’t know why they were living in the valley,” Sánchez said. “Maybe they came from somewhere else.”\n",
      "\n",
      "The researchers are not sure if the unicorns are a species of unicorn that has been living in the valley for years, or if they are a new species.\n",
      "\n",
      "“We don’t know if they are a new species or if they have been living in the valley for a long time,” Sánchez said. “We’ve never seen any of them in the area before.”\n",
      "\n",
      "Sánchez said that the unicorns are very beautiful and that they have no horns. They have a long tail that is covered in hair, and they are not as large as a horse.\n",
      "\n",
      "“They are small,” Sánchez said. “They are not as large as a horse.”\n",
      "\n",
      "The researchers said that they were able to communicate with the unicorns and they were able to follow them around.\n",
      "\n",
      "“We were able to communicate with them,” Sánchez said. �\n"
     ]
    }
   ],
   "source": [
    "prompt = (\n",
    "    \"In a shocking finding, scientists discovered a herd of unicorns living in a remote, \"\n",
    "    \"previously unexplored valley, in the Andes Mountains. Even more surprising to the \"\n",
    "    \"researchers was the fact that the unicorns spoke perfect English.\"\n",
    ")\n",
    "\n",
    "input_ids = tokenizer(prompt, return_tensors=\"pt\").input_ids\n",
    "input_ids = input_ids\n",
    "\n",
    "gen_tokens = model.generate(\n",
    "    input_ids,\n",
    "    do_sample=True,\n",
    "    temperature=0.8,\n",
    "    top_p=0.9,\n",
    "    max_length=1000,\n",
    ")\n",
    "gen_text = tokenizer.batch_decode(gen_tokens)[0]\n",
    "print(gen_text)"
   ]
  }
 ],
 "metadata": {
  "kernelspec": {
   "display_name": "Python 3.10.2 64-bit",
   "language": "python",
   "name": "python3"
  },
  "language_info": {
   "codemirror_mode": {
    "name": "ipython",
    "version": 3
   },
   "file_extension": ".py",
   "mimetype": "text/x-python",
   "name": "python",
   "nbconvert_exporter": "python",
   "pygments_lexer": "ipython3",
   "version": "3.10.2"
  },
  "orig_nbformat": 4,
  "vscode": {
   "interpreter": {
    "hash": "949777d72b0d2535278d3dc13498b2535136f6dfe0678499012e853ee9abcab1"
   }
  }
 },
 "nbformat": 4,
 "nbformat_minor": 2
}
