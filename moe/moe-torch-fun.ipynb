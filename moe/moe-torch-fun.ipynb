{
 "cells": [
  {
   "cell_type": "markdown",
   "metadata": {},
   "source": [
    "Playing with https://github.com/lucidrains/mixture-of-experts"
   ]
  },
  {
   "cell_type": "markdown",
   "metadata": {},
   "source": [
    "Imports"
   ]
  },
  {
   "cell_type": "code",
   "execution_count": 1,
   "metadata": {},
   "outputs": [],
   "source": [
    "import torch\n",
    "from torch import nn\n",
    "from mixture_of_experts import MoE\n"
   ]
  },
  {
   "cell_type": "markdown",
   "metadata": {},
   "source": [
    "The example from the README"
   ]
  },
  {
   "cell_type": "code",
   "execution_count": 2,
   "metadata": {},
   "outputs": [
    {
     "name": "stdout",
     "output_type": "stream",
     "text": [
      "tensor([[[-0.0650, -0.2893, -0.1795,  ...,  0.0168, -0.0159, -0.2139],\n",
      "         [-0.1484,  0.2455, -0.0968,  ...,  0.0163,  0.0279, -0.2175],\n",
      "         [-0.2172,  0.2235,  0.0852,  ...,  0.0207, -0.0909, -0.0362],\n",
      "         ...,\n",
      "         [-0.0885, -0.1649,  0.1277,  ...,  0.4288, -0.1716, -0.0341],\n",
      "         [-0.3383,  0.1532, -0.0771,  ...,  0.0015,  0.0863, -0.1107],\n",
      "         [-0.0654, -0.3442, -0.2506,  ...,  0.3595, -0.0489, -0.2234]],\n",
      "\n",
      "        [[ 0.4771, -0.2995,  0.0559,  ..., -0.0628,  0.2009,  0.2021],\n",
      "         [ 0.0434, -0.0705, -0.2034,  ...,  0.0257, -0.1011,  0.2663],\n",
      "         [ 0.0995,  0.2098, -0.0025,  ..., -0.0489,  0.0253,  0.1372],\n",
      "         ...,\n",
      "         [-0.3076, -0.1395,  0.0884,  ..., -0.2480, -0.1746, -0.2253],\n",
      "         [-0.1010, -0.0126, -0.2407,  ..., -0.1442,  0.1594,  0.0124],\n",
      "         [-0.0528,  0.2720,  0.4362,  ..., -0.0626,  0.4771, -0.0281]],\n",
      "\n",
      "        [[ 0.2273,  0.3430, -0.2094,  ..., -0.0935,  0.1137,  0.0027],\n",
      "         [-0.3726,  0.2877, -0.0634,  ..., -0.1332,  0.2408, -0.1228],\n",
      "         [-0.0378,  0.1633, -0.2688,  ...,  0.1628,  0.0700,  0.2245],\n",
      "         ...,\n",
      "         [ 0.0006,  0.1128,  0.1149,  ..., -0.2049, -0.0209,  0.3047],\n",
      "         [-0.2775,  0.4276,  0.1703,  ..., -0.2449,  0.0407, -0.1600],\n",
      "         [-0.1268,  0.0620, -0.0504,  ...,  0.0508,  0.0372, -0.0327]],\n",
      "\n",
      "        [[-0.0609,  0.1311, -0.0346,  ..., -0.1191, -0.1976,  0.2117],\n",
      "         [-0.1353,  0.3053, -0.1075,  ...,  0.1335,  0.1512, -0.0019],\n",
      "         [ 0.1315,  0.3151,  0.0664,  ..., -0.2432,  0.4005, -0.1336],\n",
      "         ...,\n",
      "         [ 0.1262,  0.3109, -0.1238,  ...,  0.0477,  0.1303, -0.1126],\n",
      "         [ 0.1648, -0.3134,  0.3004,  ...,  0.1267,  0.2732,  0.0612],\n",
      "         [-0.1345,  0.0974,  0.0422,  ...,  0.1719,  0.1263,  0.1259]]],\n",
      "       grad_fn=<ViewBackward0>)\n",
      "tensor(0.0102, grad_fn=<MulBackward0>)\n"
     ]
    }
   ],
   "source": [
    "moe = MoE(\n",
    "    dim = 512,\n",
    "    num_experts = 16,               # increase the experts (# parameters) of your model without increasing computation\n",
    "    hidden_dim = 512 * 4,           # size of hidden dimension in each expert, defaults to 4 * dimension\n",
    "    activation = nn.LeakyReLU,      # use your preferred activation, will default to GELU\n",
    "    second_policy_train = 'random', # in top_2 gating, policy for whether to use a second-place expert\n",
    "    second_policy_eval = 'random',  # all (always) | none (never) | threshold (if gate value > the given threshold) | random (if gate value > threshold * random_uniform(0, 1))\n",
    "    second_threshold_train = 0.2,\n",
    "    second_threshold_eval = 0.2,\n",
    "    capacity_factor_train = 1.25,   # experts have fixed capacity per batch. we need some extra capacity in case gating is not perfectly balanced.\n",
    "    capacity_factor_eval = 2.,      # capacity_factor_* should be set to a value >=1\n",
    "    loss_coef = 1e-2                # multiplier on the auxiliary expert balancing auxiliary loss\n",
    ")\n",
    "\n",
    "inputs = torch.randn(4, 1024, 512)\n",
    "out, aux_loss = moe(inputs) # (4, 1024, 512), (1,)\n",
    "print(out)\n",
    "print(aux_loss)"
   ]
  }
 ],
 "metadata": {
  "kernelspec": {
   "display_name": "Python 3.10.2 64-bit",
   "language": "python",
   "name": "python3"
  },
  "language_info": {
   "codemirror_mode": {
    "name": "ipython",
    "version": 3
   },
   "file_extension": ".py",
   "mimetype": "text/x-python",
   "name": "python",
   "nbconvert_exporter": "python",
   "pygments_lexer": "ipython3",
   "version": "3.9.6"
  },
  "orig_nbformat": 4,
  "vscode": {
   "interpreter": {
    "hash": "949777d72b0d2535278d3dc13498b2535136f6dfe0678499012e853ee9abcab1"
   }
  }
 },
 "nbformat": 4,
 "nbformat_minor": 2
}
