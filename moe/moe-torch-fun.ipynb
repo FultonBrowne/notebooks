{
 "cells": [
  {
   "cell_type": "markdown",
   "metadata": {},
   "source": [
    "Playing with https://github.com/lucidrains/mixture-of-experts"
   ]
  },
  {
   "cell_type": "markdown",
   "metadata": {},
   "source": [
    "Imports"
   ]
  },
  {
   "cell_type": "code",
   "execution_count": 2,
   "metadata": {},
   "outputs": [],
   "source": [
    "import torch\n",
    "from torch import nn\n",
    "from mixture_of_experts import MoE\n"
   ]
  },
  {
   "cell_type": "markdown",
   "metadata": {},
   "source": [
    "The example from the README"
   ]
  },
  {
   "cell_type": "code",
   "execution_count": 4,
   "metadata": {},
   "outputs": [
    {
     "name": "stdout",
     "output_type": "stream",
     "text": [
      "tensor([[[-0.2746, -0.1281, -0.0212,  ...,  0.0909,  0.0826, -0.0075],\n",
      "         [-0.0411, -0.0162, -0.2991,  ...,  0.0493,  0.2491,  0.2779],\n",
      "         [ 0.2574,  0.1190, -0.1743,  ...,  0.0723,  0.3445,  0.1705],\n",
      "         ...,\n",
      "         [ 0.0364,  0.1023,  0.2359,  ..., -0.0697,  0.3408,  0.2871],\n",
      "         [-0.0080, -0.1538,  0.3131,  ..., -0.0061,  0.2665,  0.1159],\n",
      "         [-0.1432,  0.1608, -0.2175,  ..., -0.1243, -0.1145, -0.0474]],\n",
      "\n",
      "        [[-0.1594,  0.0981, -0.0154,  ..., -0.1482, -0.0412,  0.2412],\n",
      "         [-0.4920,  0.5089,  0.1198,  ...,  0.1961, -0.0150, -0.5014],\n",
      "         [-0.0025,  0.0338,  0.0950,  ..., -0.1753,  0.0987, -0.0198],\n",
      "         ...,\n",
      "         [ 0.5218,  0.0578,  0.1279,  ...,  0.2237,  0.1803, -0.1579],\n",
      "         [-0.0624, -0.4715,  0.0489,  ...,  0.1466,  0.2376, -0.1085],\n",
      "         [-0.1073,  0.1775,  0.0738,  ..., -0.0948, -0.1230, -0.1071]],\n",
      "\n",
      "        [[-0.0401,  0.0699, -0.1740,  ...,  0.0241,  0.0544,  0.2312],\n",
      "         [-0.5468, -0.0066,  0.1501,  ...,  0.0188, -0.3992, -0.3608],\n",
      "         [-0.2684, -0.0118,  0.0535,  ..., -0.5623, -0.5178,  0.0582],\n",
      "         ...,\n",
      "         [ 0.1819, -0.4006,  0.1962,  ...,  0.2742,  0.0850,  0.2496],\n",
      "         [ 0.1578, -0.0473,  0.0486,  ...,  0.1751, -0.0494,  0.1416],\n",
      "         [-0.0622, -0.0710,  0.0487,  ..., -0.0811, -0.1513,  0.2360]],\n",
      "\n",
      "        [[ 0.1618, -0.1595,  0.0379,  ..., -0.0608,  0.3352,  0.0074],\n",
      "         [-0.2868, -0.3437, -0.1427,  ..., -0.6111, -0.0490, -0.0588],\n",
      "         [-0.1906,  0.2881,  0.0103,  ..., -0.3514,  0.2974, -0.1591],\n",
      "         ...,\n",
      "         [ 0.0638,  0.3053, -0.1619,  ..., -0.3311,  0.1393, -0.2489],\n",
      "         [-0.5140, -0.4924, -0.0437,  ..., -0.0526,  0.2376, -0.0279],\n",
      "         [-0.3020,  0.1572, -0.4369,  ..., -0.2486,  0.0450,  0.4481]]],\n",
      "       grad_fn=<ViewBackward0>)\n",
      "tensor(0.0102, grad_fn=<MulBackward0>)\n"
     ]
    }
   ],
   "source": [
    "moe = MoE(\n",
    "    dim = 512,\n",
    "    num_experts = 16,               # increase the experts (# parameters) of your model without increasing computation\n",
    "    hidden_dim = 512 * 4,           # size of hidden dimension in each expert, defaults to 4 * dimension\n",
    "    activation = nn.LeakyReLU,      # use your preferred activation, will default to GELU\n",
    "    second_policy_train = 'random', # in top_2 gating, policy for whether to use a second-place expert\n",
    "    second_policy_eval = 'random',  # all (always) | none (never) | threshold (if gate value > the given threshold) | random (if gate value > threshold * random_uniform(0, 1))\n",
    "    second_threshold_train = 0.2,\n",
    "    second_threshold_eval = 0.2,\n",
    "    capacity_factor_train = 1.25,   # experts have fixed capacity per batch. we need some extra capacity in case gating is not perfectly balanced.\n",
    "    capacity_factor_eval = 2.,      # capacity_factor_* should be set to a value >=1\n",
    "    loss_coef = 1e-2                # multiplier on the auxiliary expert balancing auxiliary loss\n",
    ")\n",
    "\n",
    "inputs = torch.randn(4, 1024, 512)\n",
    "out, aux_loss = moe(inputs) # (4, 1024, 512), (1,)\n",
    "print(out)\n",
    "print(aux_loss)"
   ]
  }
 ],
 "metadata": {
  "kernelspec": {
   "display_name": "Python 3.10.2 64-bit",
   "language": "python",
   "name": "python3"
  },
  "language_info": {
   "codemirror_mode": {
    "name": "ipython",
    "version": 3
   },
   "file_extension": ".py",
   "mimetype": "text/x-python",
   "name": "python",
   "nbconvert_exporter": "python",
   "pygments_lexer": "ipython3",
   "version": "3.10.2"
  },
  "orig_nbformat": 4,
  "vscode": {
   "interpreter": {
    "hash": "949777d72b0d2535278d3dc13498b2535136f6dfe0678499012e853ee9abcab1"
   }
  }
 },
 "nbformat": 4,
 "nbformat_minor": 2
}
