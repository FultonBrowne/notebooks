{
 "cells": [
  {
   "cell_type": "markdown",
   "metadata": {},
   "source": [
    "# Friday\n",
    "A general purpose, adaptable through training, AI assistant."
   ]
  },
  {
   "cell_type": "code",
   "execution_count": 2,
   "metadata": {},
   "outputs": [
    {
     "name": "stderr",
     "output_type": "stream",
     "text": [
      "2022-03-07 18:03:24.433479: W tensorflow/stream_executor/platform/default/dso_loader.cc:64] Could not load dynamic library 'libcudart.so.11.0'; dlerror: libcudart.so.11.0: cannot open shared object file: No such file or directory\n",
      "2022-03-07 18:03:24.433523: I tensorflow/stream_executor/cuda/cudart_stub.cc:29] Ignore above cudart dlerror if you do not have a GPU set up on your machine.\n",
      "2022-03-07 18:03:26.269808: W tensorflow/stream_executor/platform/default/dso_loader.cc:64] Could not load dynamic library 'libcuda.so.1'; dlerror: libcuda.so.1: cannot open shared object file: No such file or directory\n",
      "2022-03-07 18:03:26.269845: W tensorflow/stream_executor/cuda/cuda_driver.cc:269] failed call to cuInit: UNKNOWN ERROR (303)\n",
      "2022-03-07 18:03:26.269875: I tensorflow/stream_executor/cuda/cuda_diagnostics.cc:163] no NVIDIA GPU device is present: /dev/nvidia0 does not exist\n"
     ]
    }
   ],
   "source": [
    "import tensorflow as tf\n",
    "from tensorflow import keras\n",
    "from tensorflow.keras import layers\n",
    "import datetime\n",
    "\n",
    "%load_ext tensorboard\n",
    "log_dir = \"logs/fit/\" + datetime.datetime.now().strftime(\"%Y%m%d-%H%M%S\") # Variable for Tensorboard logs\n",
    "tensorboard_callback = tf.keras.callbacks.TensorBoard(log_dir=log_dir, histogram_freq=1) # The callback for Tensorboard\n",
    "input_shape = [3, 3] # the input shape used in this notebook\n",
    "output_shape = [3, 3] # the output shape used in this notebook\n",
    "topic_shape = [3, 3]\n",
    "#some handy testing variables that are in the default input shape\n",
    "zeros = tf.zeros(input_shape)\n",
    "ones = tf.ones(input_shape)"
   ]
  },
  {
   "cell_type": "code",
   "execution_count": 3,
   "metadata": {},
   "outputs": [],
   "source": [
    "# Clear any logs from previous runs\n",
    "!rm -rf ./logs/ "
   ]
  },
  {
   "cell_type": "markdown",
   "metadata": {},
   "source": [
    "Add a friday topic/layer class"
   ]
  },
  {
   "cell_type": "code",
   "execution_count": 4,
   "metadata": {},
   "outputs": [],
   "source": [
    "class Fllo():\n",
    "    def __init__(self, label, ll):\n",
    "        self.label = label\n",
    "        self.ll = ll"
   ]
  },
  {
   "cell_type": "markdown",
   "metadata": {},
   "source": [
    "Lets add IO operations for The Friday topic layer list"
   ]
  },
  {
   "cell_type": "code",
   "execution_count": 5,
   "metadata": {},
   "outputs": [],
   "source": [
    "def gen_fllo(label, layer):\n",
    "    return Fllo(label, layer)\n",
    "\n",
    "def addfllo(fll, fllo):\n",
    "    fll.append(fllo)\n",
    "\n",
    "def rmfllo(fll, topic):\n",
    "    print(\"No can do\")"
   ]
  },
  {
   "cell_type": "markdown",
   "metadata": {},
   "source": [
    "Add the friday router functions"
   ]
  },
  {
   "cell_type": "code",
   "execution_count": 6,
   "metadata": {},
   "outputs": [],
   "source": [
    "def ontopic(topic, label):\n",
    "    if topic == label:\n",
    "        return True\n",
    "    return False\n",
    "\n",
    "def fllseek(fll, topic):\n",
    "    for i in fll:\n",
    "      if ontopic(topic, i.label):\n",
    "        return i.layer\n",
    "    return None\n",
    "\n",
    "def llrun(ll, input):\n",
    "    x = input\n",
    "    for i in ll:\n",
    "      x = i(x)\n",
    "    return x\n",
    "\n",
    "def frouter(fll, input):\n",
    "    ll = fllseek(fll, input)\n",
    "    if ll == None:\n",
    "        addfllo(input, None) #TODO add proper topic add system\n",
    "        return zeros\n",
    "    return llrun(ll)"
   ]
  },
  {
   "cell_type": "markdown",
   "metadata": {},
   "source": [
    "Now we need a RoutimgLayer system. "
   ]
  },
  {
   "cell_type": "code",
   "execution_count": null,
   "metadata": {},
   "outputs": [],
   "source": [
    "class FridayRoutingLayer(layers.Layer):\n",
    "    def __init__(self):\n",
    "        todo()"
   ]
  },
  {
   "cell_type": "markdown",
   "metadata": {},
   "source": [
    "Lets build the friday model class. This needs to have the dynamic layer creation property built in to it\n",
    "\n",
    "fll = Friday Layer List \n",
    "fllo = Friday Layer List Object = [label, [layers]]"
   ]
  },
  {
   "cell_type": "code",
   "execution_count": 7,
   "metadata": {},
   "outputs": [],
   "source": [
    "class FridayModel(keras.Model):\n",
    "  TRAIN_MODE = 0 # For teaching basic things to friday\n",
    "  BASIC_MODE = 1 # For auto tests\n",
    "  FRIDAY_MODE = 2 # Full interative operation\n",
    "  def __init__(self):\n",
    "    \n",
    "    self.densuper().__init__()se1 = layers.Dense(4, activation=tf.nn.relu)\n",
    "    self.dense2 = layers.Dense(5, activation=tf.nn.softmax)\n",
    "    self.fll = [gen_fllo(\"test\", [layers.Dense(5, activation=tf.nn.softmax)])]\n",
    "  def call(self, inputs, training=0):\n",
    "    x = self.dense1(inputs)\n",
    "    addfllo(self.fll, gen_fllo(\"test 2\", [layers.Dense(8, activation=tf.nn.softmax)]))\n",
    "    match training:\n",
    "      case self.TRAIN_MODE:\n",
    "        print(\"Train mode place holder\")\n",
    "      case self.BASIC_MODE:\n",
    "        print(\"do stuff this is a place holder\")\n",
    "      case self.FRIDAY_MODE:\n",
    "        print(\"yes\")\n",
    "    return self.dense2(x)\n"
   ]
  },
  {
   "cell_type": "markdown",
   "metadata": {},
   "source": [
    "Now we're going to create an instance of the model."
   ]
  },
  {
   "cell_type": "code",
   "execution_count": 8,
   "metadata": {},
   "outputs": [],
   "source": [
    "model = FridayModel()\n",
    "tensorboard_callback.set_model(model)"
   ]
  },
  {
   "cell_type": "markdown",
   "metadata": {},
   "source": [
    "Let use each of the modes with no Pre-training for fun"
   ]
  },
  {
   "cell_type": "code",
   "execution_count": 9,
   "metadata": {},
   "outputs": [
    {
     "name": "stdout",
     "output_type": "stream",
     "text": [
      "Train mode place holder\n",
      "do stuff this is a place holder\n",
      "yes\n"
     ]
    },
    {
     "data": {
      "text/plain": [
       "<tf.Tensor: shape=(3, 5), dtype=float32, numpy=\n",
       "array([[0.2, 0.2, 0.2, 0.2, 0.2],\n",
       "       [0.2, 0.2, 0.2, 0.2, 0.2],\n",
       "       [0.2, 0.2, 0.2, 0.2, 0.2]], dtype=float32)>"
      ]
     },
     "execution_count": 9,
     "metadata": {},
     "output_type": "execute_result"
    }
   ],
   "source": [
    "model(zeros, training=FridayModel.TRAIN_MODE)\n",
    "model(ones, training=FridayModel.BASIC_MODE)\n",
    "model(zeros, training=FridayModel.FRIDAY_MODE)"
   ]
  },
  {
   "cell_type": "markdown",
   "metadata": {},
   "source": [
    "We're going to prepare the model for the initial training."
   ]
  },
  {
   "cell_type": "code",
   "execution_count": 10,
   "metadata": {},
   "outputs": [],
   "source": [
    "optimizer = tf.keras.optimizers.Adam()\n",
    "loss = tf.keras.losses.SparseCategoricalCrossentropy(from_logits=True)\n",
    "model.compile(optimizer, loss)"
   ]
  },
  {
   "cell_type": "markdown",
   "metadata": {},
   "source": [
    "Create and run the training loop"
   ]
  },
  {
   "cell_type": "markdown",
   "metadata": {},
   "source": [
    "Now lets take a look at the base model properties"
   ]
  },
  {
   "cell_type": "code",
   "execution_count": 11,
   "metadata": {},
   "outputs": [
    {
     "name": "stdout",
     "output_type": "stream",
     "text": [
      "Model: \"friday_model\"\n",
      "_________________________________________________________________\n",
      " Layer (type)                Output Shape              Param #   \n",
      "=================================================================\n",
      " dense (Dense)               multiple                  16        \n",
      "                                                                 \n",
      " dense_1 (Dense)             multiple                  25        \n",
      "                                                                 \n",
      "=================================================================\n",
      "Total params: 41\n",
      "Trainable params: 41\n",
      "Non-trainable params: 0\n",
      "_________________________________________________________________\n"
     ]
    },
    {
     "data": {
      "text/plain": [
       "Reusing TensorBoard on port 6006 (pid 282046), started 2 days, 19:58:28 ago. (Use '!kill 282046' to kill it.)"
      ]
     },
     "metadata": {},
     "output_type": "display_data"
    },
    {
     "data": {
      "text/html": [
       "\n",
       "      <iframe id=\"tensorboard-frame-f51fdd00ff302011\" width=\"100%\" height=\"800\" frameborder=\"0\">\n",
       "      </iframe>\n",
       "      <script>\n",
       "        (function() {\n",
       "          const frame = document.getElementById(\"tensorboard-frame-f51fdd00ff302011\");\n",
       "          const url = new URL(\"http://localhost\");\n",
       "          const port = 6006;\n",
       "          if (port) {\n",
       "            url.port = port;\n",
       "          }\n",
       "          frame.src = url;\n",
       "        })();\n",
       "      </script>\n",
       "    "
      ],
      "text/plain": [
       "<IPython.core.display.HTML object>"
      ]
     },
     "metadata": {},
     "output_type": "display_data"
    }
   ],
   "source": [
    "model.summary()\n",
    "%tensorboard --logdir logs/fit"
   ]
  }
 ],
 "metadata": {
  "kernelspec": {
   "display_name": "Python 3.10.2 64-bit",
   "language": "python",
   "name": "python3"
  },
  "language_info": {
   "codemirror_mode": {
    "name": "ipython",
    "version": 3
   },
   "file_extension": ".py",
   "mimetype": "text/x-python",
   "name": "python",
   "nbconvert_exporter": "python",
   "pygments_lexer": "ipython3",
   "version": "3.10.2"
  },
  "vscode": {
   "interpreter": {
    "hash": "949777d72b0d2535278d3dc13498b2535136f6dfe0678499012e853ee9abcab1"
   }
  }
 },
 "nbformat": 4,
 "nbformat_minor": 4
}
