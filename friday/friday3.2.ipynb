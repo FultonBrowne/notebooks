{
 "cells": [
  {
   "cell_type": "code",
   "execution_count": null,
   "metadata": {},
   "outputs": [],
   "source": [
    "from transformers import GPT2Tokenizer, GPT2LMHeadModel"
   ]
  },
  {
   "cell_type": "code",
   "execution_count": null,
   "metadata": {},
   "outputs": [],
   "source": [
    "# Set the model and tokenizer names\n",
    "model_name = \"gpt2\"\n",
    "tokenizer_name = \"gpt2\"\n",
    "\n",
    "# Load the model and tokenizer\n",
    "model = GPT2LMHeadModel.from_pretrained(model_name)\n",
    "tokenizer = GPT2Tokenizer.from_pretrained(tokenizer_name)"
   ]
  },
  {
   "cell_type": "code",
   "execution_count": null,
   "metadata": {},
   "outputs": [],
   "source": [
    "def generate_response(prompt):\n",
    "  # Encode the prompt and generate a response\n",
    "  input_ids = tokenizer.encode(prompt, return_tensors='pt')\n",
    "  response = model.generate(input_ids, max_length=1024, top_p=0.9, top_k=20)\n",
    "\n",
    "  # Decode the response and return it\n",
    "  return tokenizer.decode(response[0], skip_special_tokens=True)\n",
    "\n",
    "# Test the chatbot with a prompt\n",
    "prompt = \"Hello, how are you today?\"\n",
    "response = generate_response(prompt)\n",
    "print(response)"
   ]
  }
 ],
 "metadata": {
  "language_info": {
   "name": "python"
  },
  "orig_nbformat": 4
 },
 "nbformat": 4,
 "nbformat_minor": 2
}
