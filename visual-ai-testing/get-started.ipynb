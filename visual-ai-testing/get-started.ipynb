{
 "cells": [
  {
   "cell_type": "markdown",
   "metadata": {},
   "source": [
    "# Guild AI Interactive Python Quick Start\n",
    "\n",
    "This Notebook mirrors the steps in [Guild AI Quick Start](https://my.guild.ai/start).\n",
    "\n",
    "Guild AI is a tool for running, tracking, and comparing machine learning experiments. For more on Guild AI, visit https://guild.ai.\n",
    "\n",
    "In this example, we show how Guild is used to run an unmodified Python function as a training operation. It uses a Pythonic interface defined in the module `guild.ipy`.\n",
    "\n",
    "This notebook covers the following topics:\n",
    "\n",
    "- Installation\n",
    "- Experiment basics\n",
    "    - Create a mock training function\n",
    "    - Generate a run with Guild\n",
    "    - Examine the run\n",
    "    - Generate a second run\n",
    "    - Compare runs\n",
    "- Hyperparameter search and optimization\n",
    "    - Grid search\n",
    "    - Random search\n",
    "    - Bayesian optimization\n",
    "\n",
    "## Installation\n",
    "\n",
    "Before continuing, install Guild AI:\n",
    "\n",
    "    $ pip install guildai\n",
    "    \n",
    "Install either `tensorflow` or `tensorflow-gpu` depending on your system capability:\n",
    "\n",
    "    $ pip install tensorflow # (or tensorflow-gpu if your system has a GPU)\n",
    "    \n",
    "TensorFlow is required for TensorBoard support. Your training code does not need to use TensorFlow. This requirement will be removed in versions of Guild starting with `0.7`.\n",
    "    \n",
    "**<span style=\"color:#600\">IMPORTANT</span>** If you are installing Guild AI 0.6.3, you must manually install a missing requirement (this bug is fixed in 0.6.4, which will be released in late May):\n",
    "\n",
    "    $ pip install click\n",
    "    \n",
    "## Contents\n",
    "    \n",
    "This Notebook has two parts.\n",
    "\n",
    "It features the module `guild.ipy`, which is a Python interface that can be used interactively in Notebooks or by your own Python code. "
   ]
  },
  {
   "cell_type": "markdown",
   "metadata": {},
   "source": [
    "## Notebooks config\n",
    "\n",
    "Modify the variables below to change Notebook configuration.\n",
    "\n",
    "`GULID_HOME` is the location of generated runs. By default it is the location subdirectory \"guild-env\". Note that we initialize this directory below by permanently deleting any runs it contains before proceeding. If you don't want to delete runs in `GUILD_HOME`, set `DELETE_RUNS_ON_INIT` to `False` below."
   ]
  },
  {
   "cell_type": "code",
   "execution_count": 1,
   "metadata": {},
   "outputs": [],
   "source": [
    "GUILD_HOME = \"guild-env\""
   ]
  },
  {
   "cell_type": "markdown",
   "metadata": {},
   "source": [
    "`DELETE_RUNS_ON_INIT` determines whether or not runs are initially deleted from `GUILD_HOME` below. As this Notebook is for demonstration purposes, it's usually a good idea to delete any existing runs before proceeding. To prevent any runs from being deleted, set `DELETE_RUNS_ON_INIT` to `False`."
   ]
  },
  {
   "cell_type": "code",
   "execution_count": 2,
   "metadata": {},
   "outputs": [],
   "source": [
    "DELETE_RUNS_ON_INIT = True"
   ]
  },
  {
   "cell_type": "markdown",
   "metadata": {},
   "source": [
    "## Guild interactive Python API\n",
    "\n",
    "Guild AI functionality is available through a Notebook compatible interface defined in `guild.ipy`.\n",
    "\n",
    "Import this module as `guild`:"
   ]
  },
  {
   "cell_type": "code",
   "execution_count": 3,
   "metadata": {},
   "outputs": [],
   "source": [
    "import guild.ipy as guild"
   ]
  },
  {
   "cell_type": "markdown",
   "metadata": {},
   "source": [
    "**<span style=\"color:#600\">IMPORTANT</span>** If you get an error **No module named 'click'** install `click` manually by running `pip install click` in your Notebook environment."
   ]
  },
  {
   "cell_type": "markdown",
   "metadata": {},
   "source": [
    "## Initialize Guild Home\n",
    "\n",
    "Guild home is a directory containing the runs that Guild generates. This Notebook uses the directory defined by `GUILD_HOME`. Ensure that the directory exists and use `set_guild_home()` to set the value. "
   ]
  },
  {
   "cell_type": "code",
   "execution_count": 4,
   "metadata": {},
   "outputs": [],
   "source": [
    "import os\n",
    "\n",
    "if not os.path.exists(GUILD_HOME):\n",
    "    os.mkdir(GUILD_HOME)\n",
    "    \n",
    "guild.set_guild_home(GUILD_HOME)"
   ]
  },
  {
   "cell_type": "markdown",
   "metadata": {},
   "source": [
    "Clear the director of any runs."
   ]
  },
  {
   "cell_type": "code",
   "execution_count": 5,
   "metadata": {},
   "outputs": [
    {
     "name": "stdout",
     "output_type": "stream",
     "text": [
      "Deleted 12 run(s)\n"
     ]
    }
   ],
   "source": [
    "if DELETE_RUNS_ON_INIT:\n",
    "    deleted = guild.runs().delete(permanent=True)\n",
    "    print(\"Deleted %i run(s)\" % len(deleted))"
   ]
  },
  {
   "cell_type": "markdown",
   "metadata": {},
   "source": [
    "## Mock training function\n",
    "\n",
    "Create a mock training script. This function doesn’t actually train anything, but simulates the training process of accepting hyperparameters as inputs and generating a loss."
   ]
  },
  {
   "cell_type": "code",
   "execution_count": 6,
   "metadata": {},
   "outputs": [],
   "source": [
    "import numpy as np\n",
    "\n",
    "def train(x=0.1, noise=0.1):\n",
    "    loss = (np.sin(5 * x) * (1 - np.tanh(x ** 2)) + np.random.randn() * noise)\n",
    "    print(\"loss: %f\" % loss)"
   ]
  },
  {
   "cell_type": "markdown",
   "metadata": {},
   "source": [
    "[Function credit: *skopt API documentation*](https://scikit-optimize.github.io/)\n",
    "\n",
    "Run the mock training function a couple times to see how it works.\n",
    "\n",
    "**NOTE** The function uses a random component to simulate training \"noise\". This causes the results to differ across runs."
   ]
  },
  {
   "cell_type": "code",
   "execution_count": 7,
   "metadata": {},
   "outputs": [
    {
     "name": "stdout",
     "output_type": "stream",
     "text": [
      "Trial 1:\n",
      "loss: 0.018864\n"
     ]
    }
   ],
   "source": [
    "print(\"Trial 1:\")\n",
    "train(x=-2.0)"
   ]
  },
  {
   "cell_type": "code",
   "execution_count": 8,
   "metadata": {},
   "outputs": [
    {
     "name": "stdout",
     "output_type": "stream",
     "text": [
      "Trial 2:\n",
      "loss: -0.033283\n"
     ]
    }
   ],
   "source": [
    "print(\"Trial 2:\")\n",
    "train(x=0.0)"
   ]
  },
  {
   "cell_type": "code",
   "execution_count": 9,
   "metadata": {},
   "outputs": [
    {
     "name": "stdout",
     "output_type": "stream",
     "text": [
      "Trial 3:\n",
      "loss: -0.003952\n"
     ]
    }
   ],
   "source": [
    "print(\"Trial 3:\")\n",
    "train(x=2.0)"
   ]
  },
  {
   "cell_type": "markdown",
   "metadata": {},
   "source": [
    "## Generate a run"
   ]
  },
  {
   "cell_type": "markdown",
   "metadata": {},
   "source": [
    "Run the mock train function using Guild:"
   ]
  },
  {
   "cell_type": "code",
   "execution_count": 10,
   "metadata": {},
   "outputs": [
    {
     "name": "stdout",
     "output_type": "stream",
     "text": [
      "loss: 0.440338\n"
     ]
    }
   ],
   "source": [
    "run, return_val = guild.run(train)"
   ]
  },
  {
   "cell_type": "markdown",
   "metadata": {},
   "source": [
    "The `run()` function returns a tuple of the Guild run and the return value of the function.\n",
    "\n",
    "In this case, our mock training function doesn't return a value."
   ]
  },
  {
   "cell_type": "code",
   "execution_count": 11,
   "metadata": {},
   "outputs": [
    {
     "name": "stdout",
     "output_type": "stream",
     "text": [
      "None\n"
     ]
    }
   ],
   "source": [
    "print(return_val)"
   ]
  },
  {
   "cell_type": "markdown",
   "metadata": {},
   "source": [
    "The `run` variable is a Python object that represents the run."
   ]
  },
  {
   "cell_type": "markdown",
   "metadata": {},
   "source": [
    "## Examine the run\n",
    "\n",
    "We can work with the run object directly to get information about it."
   ]
  },
  {
   "cell_type": "markdown",
   "metadata": {},
   "source": [
    "Each run has a uniqiue ID:"
   ]
  },
  {
   "cell_type": "code",
   "execution_count": 12,
   "metadata": {},
   "outputs": [
    {
     "data": {
      "text/plain": [
       "'f8fd8c3d6beb4f1d8bd14d6031c2d8c9'"
      ]
     },
     "execution_count": 12,
     "metadata": {},
     "output_type": "execute_result"
    }
   ],
   "source": [
    "run.id"
   ]
  },
  {
   "cell_type": "markdown",
   "metadata": {},
   "source": [
    "Each run is associated with a unique directory, which includes the ID. The run directory contains metadata and output associated with the run."
   ]
  },
  {
   "cell_type": "code",
   "execution_count": 13,
   "metadata": {},
   "outputs": [
    {
     "data": {
      "text/plain": [
       "'guild-env/runs/f8fd8c3d6beb4f1d8bd14d6031c2d8c9'"
      ]
     },
     "execution_count": 13,
     "metadata": {},
     "output_type": "execute_result"
    }
   ],
   "source": [
    "run.dir"
   ]
  },
  {
   "cell_type": "markdown",
   "metadata": {},
   "source": [
    "Our mock training script doesn't generate any files, so the run directory is empty, with the exception of a `.guild` subdirectory."
   ]
  },
  {
   "cell_type": "code",
   "execution_count": 14,
   "metadata": {},
   "outputs": [
    {
     "data": {
      "text/plain": [
       "['.guild']"
      ]
     },
     "execution_count": 14,
     "metadata": {},
     "output_type": "execute_result"
    }
   ],
   "source": [
    "os.listdir(run.dir)"
   ]
  },
  {
   "cell_type": "markdown",
   "metadata": {},
   "source": [
    "The `.guild` subdirectory contains run output and metadata. Outputs include the output printed to the script during the operation (`output`) and any scalars logged (`events.*`). Guild logs scalar output using TensorFlow event files, which can be read using TensorBoard."
   ]
  },
  {
   "cell_type": "code",
   "execution_count": 15,
   "metadata": {},
   "outputs": [
    {
     "data": {
      "text/plain": [
       "['output',\n",
       " 'events.out.tfevents.1654352263.54f424ef259a.276705.0',\n",
       " 'opref',\n",
       " 'attrs']"
      ]
     },
     "execution_count": 15,
     "metadata": {},
     "output_type": "execute_result"
    }
   ],
   "source": [
    "os.listdir(os.path.join(run.dir, \".guild\"))"
   ]
  },
  {
   "cell_type": "markdown",
   "metadata": {},
   "source": [
    "Run metadata includes *attributes*. You can list the attribute names using `attr_names()`:"
   ]
  },
  {
   "cell_type": "code",
   "execution_count": 16,
   "metadata": {},
   "outputs": [
    {
     "data": {
      "text/plain": [
       "['exit_status', 'flags', 'id', 'initialized', 'label', 'started', 'stopped']"
      ]
     },
     "execution_count": 16,
     "metadata": {},
     "output_type": "execute_result"
    }
   ],
   "source": [
    "run.attr_names()"
   ]
  },
  {
   "cell_type": "markdown",
   "metadata": {},
   "source": [
    "Read an attribute value using `get()`. For example, to read the *flags* attribute, use:"
   ]
  },
  {
   "cell_type": "code",
   "execution_count": 17,
   "metadata": {},
   "outputs": [
    {
     "data": {
      "text/plain": [
       "{'noise': 0.1, 'x': 0.1}"
      ]
     },
     "execution_count": 17,
     "metadata": {},
     "output_type": "execute_result"
    }
   ],
   "source": [
    "run.get(\"flags\")"
   ]
  },
  {
   "cell_type": "markdown",
   "metadata": {},
   "source": [
    "Flags are values provided to the function. In this case, both values are defined as function keyword default values. Later you run `train` using explicit flag values."
   ]
  },
  {
   "cell_type": "markdown",
   "metadata": {},
   "source": [
    "Each run has a *status*, which indicates if the run is still running and whether or not it completed successfully or terminated with an error."
   ]
  },
  {
   "cell_type": "code",
   "execution_count": 18,
   "metadata": {},
   "outputs": [
    {
     "data": {
      "text/plain": [
       "'completed'"
      ]
     },
     "execution_count": 18,
     "metadata": {},
     "output_type": "execute_result"
    }
   ],
   "source": [
    "run.status"
   ]
  },
  {
   "cell_type": "markdown",
   "metadata": {},
   "source": [
    "## List runs"
   ]
  },
  {
   "cell_type": "markdown",
   "metadata": {},
   "source": [
    "List runs using `guild.runs()`:"
   ]
  },
  {
   "cell_type": "code",
   "execution_count": 19,
   "metadata": {},
   "outputs": [
    {
     "data": {
      "text/html": [
       "<div>\n",
       "<style scoped>\n",
       "    .dataframe tbody tr th:only-of-type {\n",
       "        vertical-align: middle;\n",
       "    }\n",
       "\n",
       "    .dataframe tbody tr th {\n",
       "        vertical-align: top;\n",
       "    }\n",
       "\n",
       "    .dataframe thead th {\n",
       "        text-align: right;\n",
       "    }\n",
       "</style>\n",
       "<table border=\"1\" class=\"dataframe\">\n",
       "  <thead>\n",
       "    <tr style=\"text-align: right;\">\n",
       "      <th></th>\n",
       "      <th>run</th>\n",
       "      <th>operation</th>\n",
       "      <th>started</th>\n",
       "      <th>status</th>\n",
       "      <th>label</th>\n",
       "    </tr>\n",
       "  </thead>\n",
       "  <tbody>\n",
       "    <tr>\n",
       "      <th>0</th>\n",
       "      <td>f8fd8c3d</td>\n",
       "      <td>train()</td>\n",
       "      <td>2022-06-04 14:17:43</td>\n",
       "      <td>completed</td>\n",
       "      <td>noise=0.1 x=0.1</td>\n",
       "    </tr>\n",
       "  </tbody>\n",
       "</table>\n",
       "</div>"
      ],
      "text/plain": [
       "        run operation             started     status            label\n",
       "0  f8fd8c3d   train() 2022-06-04 14:17:43  completed  noise=0.1 x=0.1"
      ]
     },
     "execution_count": 19,
     "metadata": {},
     "output_type": "execute_result"
    }
   ],
   "source": [
    "runs = guild.runs()\n",
    "runs"
   ]
  },
  {
   "cell_type": "markdown",
   "metadata": {},
   "source": [
    "Each time you run an operation, the run appears in the data frame generated by `runs()`."
   ]
  },
  {
   "cell_type": "markdown",
   "metadata": {},
   "source": [
    "## Print run info"
   ]
  },
  {
   "cell_type": "markdown",
   "metadata": {},
   "source": [
    "From `runs`, we can print information for the latest run using `runs.info()`."
   ]
  },
  {
   "cell_type": "code",
   "execution_count": 20,
   "metadata": {},
   "outputs": [
    {
     "name": "stdout",
     "output_type": "stream",
     "text": [
      "id: f8fd8c3d6beb4f1d8bd14d6031c2d8c9\n",
      "operation: train()\n",
      "status: completed\n",
      "started: 2022-06-04 14:17:43\n",
      "stopped: 2022-06-04 14:17:43\n",
      "label: noise=0.1 x=0.1\n",
      "run_dir: /workspaces/ai_fun/visual-ai-testing/guild-env/runs/f8fd8c3d6beb4f1d8bd14d6031c2d8c9\n",
      "flags:\n",
      "  noise: 0.1\n",
      "  x: 0.1\n"
     ]
    }
   ],
   "source": [
    "runs.info()"
   ]
  },
  {
   "cell_type": "markdown",
   "metadata": {},
   "source": [
    "This information reflects the information you saw in the prior section."
   ]
  },
  {
   "cell_type": "markdown",
   "metadata": {},
   "source": [
    "## Run scalars\n",
    "\n",
    "Run results are recorded as *scalars*. You can list scalars in two ways.\n",
    "\n",
    "First, you can specify the `scalars` flag to `info()`:"
   ]
  },
  {
   "cell_type": "code",
   "execution_count": 21,
   "metadata": {},
   "outputs": [
    {
     "name": "stdout",
     "output_type": "stream",
     "text": [
      "id: f8fd8c3d6beb4f1d8bd14d6031c2d8c9\n",
      "operation: train()\n",
      "status: completed\n",
      "started: 2022-06-04 14:17:43\n",
      "stopped: 2022-06-04 14:17:43\n",
      "label: noise=0.1 x=0.1\n",
      "run_dir: /workspaces/ai_fun/visual-ai-testing/guild-env/runs/f8fd8c3d6beb4f1d8bd14d6031c2d8c9\n",
      "flags:\n",
      "  noise: 0.1\n",
      "  x: 0.1\n",
      "scalars:\n",
      "  loss: 0.440338 (step 0)\n"
     ]
    }
   ],
   "source": [
    "runs.info(scalars=True)"
   ]
  },
  {
   "cell_type": "markdown",
   "metadata": {},
   "source": [
    "Second, you can get a data frame containing scalars using the `scalars()` method."
   ]
  },
  {
   "cell_type": "code",
   "execution_count": 22,
   "metadata": {},
   "outputs": [
    {
     "data": {
      "text/html": [
       "<div>\n",
       "<style scoped>\n",
       "    .dataframe tbody tr th:only-of-type {\n",
       "        vertical-align: middle;\n",
       "    }\n",
       "\n",
       "    .dataframe tbody tr th {\n",
       "        vertical-align: top;\n",
       "    }\n",
       "\n",
       "    .dataframe thead th {\n",
       "        text-align: right;\n",
       "    }\n",
       "</style>\n",
       "<table border=\"1\" class=\"dataframe\">\n",
       "  <thead>\n",
       "    <tr style=\"text-align: right;\">\n",
       "      <th></th>\n",
       "      <th>run</th>\n",
       "      <th>prefix</th>\n",
       "      <th>tag</th>\n",
       "      <th>first_val</th>\n",
       "      <th>first_step</th>\n",
       "      <th>last_val</th>\n",
       "      <th>last_step</th>\n",
       "      <th>min_val</th>\n",
       "      <th>min_step</th>\n",
       "      <th>max_val</th>\n",
       "      <th>max_step</th>\n",
       "      <th>avg_val</th>\n",
       "      <th>count</th>\n",
       "      <th>total</th>\n",
       "    </tr>\n",
       "  </thead>\n",
       "  <tbody>\n",
       "    <tr>\n",
       "      <th>0</th>\n",
       "      <td>f8fd8c3d6beb4f1d8bd14d6031c2d8c9</td>\n",
       "      <td>.guild</td>\n",
       "      <td>loss</td>\n",
       "      <td>0.440338</td>\n",
       "      <td>0</td>\n",
       "      <td>0.440338</td>\n",
       "      <td>0</td>\n",
       "      <td>0.440338</td>\n",
       "      <td>0</td>\n",
       "      <td>0.440338</td>\n",
       "      <td>0</td>\n",
       "      <td>0.440338</td>\n",
       "      <td>1</td>\n",
       "      <td>0.440338</td>\n",
       "    </tr>\n",
       "  </tbody>\n",
       "</table>\n",
       "</div>"
      ],
      "text/plain": [
       "                                run  prefix   tag  first_val  first_step  \\\n",
       "0  f8fd8c3d6beb4f1d8bd14d6031c2d8c9  .guild  loss   0.440338           0   \n",
       "\n",
       "   last_val  last_step   min_val  min_step   max_val  max_step   avg_val  \\\n",
       "0  0.440338          0  0.440338         0  0.440338         0  0.440338   \n",
       "\n",
       "   count     total  \n",
       "0      1  0.440338  "
      ]
     },
     "execution_count": 22,
     "metadata": {},
     "output_type": "execute_result"
    }
   ],
   "source": [
    "scalars = runs.scalars()\n",
    "scalars"
   ]
  },
  {
   "cell_type": "markdown",
   "metadata": {},
   "source": [
    "**<span style=\"color:#600\">IMPORTANT</span>** If this listing is empty, ensure that you have TensorFlow installed (see above for instructions).\n",
    "\n",
    "Guild stores aggregates of each tag, including *first*, *last*, *max*, *min*, and *average*."
   ]
  },
  {
   "cell_type": "markdown",
   "metadata": {},
   "source": [
    "You can use the various facilities in data frame to get scalar values."
   ]
  },
  {
   "cell_type": "code",
   "execution_count": 23,
   "metadata": {},
   "outputs": [
    {
     "data": {
      "text/plain": [
       "0    0.440338\n",
       "Name: last_val, dtype: float64"
      ]
     },
     "execution_count": 23,
     "metadata": {},
     "output_type": "execute_result"
    }
   ],
   "source": [
    "scalars.query(\"(run == '%s') and (tag == 'loss')\" % run.id)[\"last_val\"]"
   ]
  },
  {
   "cell_type": "markdown",
   "metadata": {},
   "source": [
    "## Generate a second run"
   ]
  },
  {
   "cell_type": "markdown",
   "metadata": {},
   "source": [
    "Run train again with different flags along with a run *label*:"
   ]
  },
  {
   "cell_type": "code",
   "execution_count": 24,
   "metadata": {},
   "outputs": [
    {
     "name": "stdout",
     "output_type": "stream",
     "text": [
      "loss: 0.755420\n"
     ]
    }
   ],
   "source": [
    "_ = guild.run(train, x=0.2, _label=\"run 2\")"
   ]
  },
  {
   "cell_type": "markdown",
   "metadata": {},
   "source": [
    "List runs:"
   ]
  },
  {
   "cell_type": "code",
   "execution_count": 25,
   "metadata": {},
   "outputs": [
    {
     "data": {
      "text/html": [
       "<div>\n",
       "<style scoped>\n",
       "    .dataframe tbody tr th:only-of-type {\n",
       "        vertical-align: middle;\n",
       "    }\n",
       "\n",
       "    .dataframe tbody tr th {\n",
       "        vertical-align: top;\n",
       "    }\n",
       "\n",
       "    .dataframe thead th {\n",
       "        text-align: right;\n",
       "    }\n",
       "</style>\n",
       "<table border=\"1\" class=\"dataframe\">\n",
       "  <thead>\n",
       "    <tr style=\"text-align: right;\">\n",
       "      <th></th>\n",
       "      <th>run</th>\n",
       "      <th>operation</th>\n",
       "      <th>started</th>\n",
       "      <th>status</th>\n",
       "      <th>label</th>\n",
       "    </tr>\n",
       "  </thead>\n",
       "  <tbody>\n",
       "    <tr>\n",
       "      <th>0</th>\n",
       "      <td>652cc72a</td>\n",
       "      <td>train()</td>\n",
       "      <td>2022-06-04 14:17:45</td>\n",
       "      <td>completed</td>\n",
       "      <td>run 2</td>\n",
       "    </tr>\n",
       "    <tr>\n",
       "      <th>1</th>\n",
       "      <td>f8fd8c3d</td>\n",
       "      <td>train()</td>\n",
       "      <td>2022-06-04 14:17:43</td>\n",
       "      <td>completed</td>\n",
       "      <td>noise=0.1 x=0.1</td>\n",
       "    </tr>\n",
       "  </tbody>\n",
       "</table>\n",
       "</div>"
      ],
      "text/plain": [
       "        run operation             started     status            label\n",
       "0  652cc72a   train() 2022-06-04 14:17:45  completed            run 2\n",
       "1  f8fd8c3d   train() 2022-06-04 14:17:43  completed  noise=0.1 x=0.1"
      ]
     },
     "execution_count": 25,
     "metadata": {},
     "output_type": "execute_result"
    }
   ],
   "source": [
    "guild.runs()"
   ]
  },
  {
   "cell_type": "markdown",
   "metadata": {},
   "source": [
    "Note that the latest run contains the label \"run 2\" as specified in the `run()` call."
   ]
  },
  {
   "cell_type": "markdown",
   "metadata": {},
   "source": [
    "## Compare runs\n",
    "\n",
    "Use `compare()` to generate a data frame containing both flags and scalars."
   ]
  },
  {
   "cell_type": "code",
   "execution_count": 26,
   "metadata": {},
   "outputs": [
    {
     "data": {
      "text/html": [
       "<div>\n",
       "<style scoped>\n",
       "    .dataframe tbody tr th:only-of-type {\n",
       "        vertical-align: middle;\n",
       "    }\n",
       "\n",
       "    .dataframe tbody tr th {\n",
       "        vertical-align: top;\n",
       "    }\n",
       "\n",
       "    .dataframe thead th {\n",
       "        text-align: right;\n",
       "    }\n",
       "</style>\n",
       "<table border=\"1\" class=\"dataframe\">\n",
       "  <thead>\n",
       "    <tr style=\"text-align: right;\">\n",
       "      <th></th>\n",
       "      <th>run</th>\n",
       "      <th>operation</th>\n",
       "      <th>started</th>\n",
       "      <th>time</th>\n",
       "      <th>status</th>\n",
       "      <th>label</th>\n",
       "      <th>noise</th>\n",
       "      <th>x</th>\n",
       "      <th>step</th>\n",
       "      <th>loss</th>\n",
       "    </tr>\n",
       "  </thead>\n",
       "  <tbody>\n",
       "    <tr>\n",
       "      <th>0</th>\n",
       "      <td>652cc72a</td>\n",
       "      <td>train()</td>\n",
       "      <td>2022-06-04 14:17:45</td>\n",
       "      <td>0 days</td>\n",
       "      <td>completed</td>\n",
       "      <td>run 2</td>\n",
       "      <td>0.1</td>\n",
       "      <td>0.2</td>\n",
       "      <td>0</td>\n",
       "      <td>0.755420</td>\n",
       "    </tr>\n",
       "    <tr>\n",
       "      <th>1</th>\n",
       "      <td>f8fd8c3d</td>\n",
       "      <td>train()</td>\n",
       "      <td>2022-06-04 14:17:43</td>\n",
       "      <td>0 days</td>\n",
       "      <td>completed</td>\n",
       "      <td>noise=0.1 x=0.1</td>\n",
       "      <td>0.1</td>\n",
       "      <td>0.1</td>\n",
       "      <td>0</td>\n",
       "      <td>0.440338</td>\n",
       "    </tr>\n",
       "  </tbody>\n",
       "</table>\n",
       "</div>"
      ],
      "text/plain": [
       "        run operation             started   time     status            label  \\\n",
       "0  652cc72a   train() 2022-06-04 14:17:45 0 days  completed            run 2   \n",
       "1  f8fd8c3d   train() 2022-06-04 14:17:43 0 days  completed  noise=0.1 x=0.1   \n",
       "\n",
       "   noise    x  step      loss  \n",
       "0    0.1  0.2     0  0.755420  \n",
       "1    0.1  0.1     0  0.440338  "
      ]
     },
     "execution_count": 26,
     "metadata": {},
     "output_type": "execute_result"
    }
   ],
   "source": [
    "guild.runs().compare()"
   ]
  },
  {
   "cell_type": "markdown",
   "metadata": {},
   "source": [
    "## Grid search\n",
    "\n",
    "Grid search &mdash; also referred to as a parameter sweep &mdash; is a form of hyperparameter tuning that uses exhaustive search over a manually defined set of hyperparameter values.\n",
    "\n",
    "To perform a grid search in Guild, provide a list of values to use for any given flag. If you specify lists for multiple flags, Guild runs trials for each possible flag value combination."
   ]
  },
  {
   "cell_type": "markdown",
   "metadata": {},
   "source": [
    "Run `train()` using a range of values:"
   ]
  },
  {
   "cell_type": "code",
   "execution_count": 27,
   "metadata": {},
   "outputs": [
    {
     "name": "stdout",
     "output_type": "stream",
     "text": [
      "Running train (noise=0.1, x=-0.5):\n",
      "loss: -0.421690\n",
      "Running train (noise=0.1, x=-0.4):\n",
      "loss: -0.754186\n",
      "Running train (noise=0.1, x=-0.3):\n",
      "loss: -0.816842\n",
      "Running train (noise=0.1, x=-0.2):\n",
      "loss: -0.975647\n",
      "Running train (noise=0.1, x=-0.1):\n",
      "loss: -0.569882\n"
     ]
    }
   ],
   "source": [
    "_ = guild.run(train, x=[-0.5,-0.4,-0.3,-0.2,-0.1])"
   ]
  },
  {
   "cell_type": "markdown",
   "metadata": {},
   "source": [
    "This command generates five trials, one for each specified value of `x`.\n",
    "\n",
    "Use `runs().compare()[:5]` to compare the last five results:"
   ]
  },
  {
   "cell_type": "code",
   "execution_count": 28,
   "metadata": {},
   "outputs": [
    {
     "data": {
      "text/html": [
       "<div>\n",
       "<style scoped>\n",
       "    .dataframe tbody tr th:only-of-type {\n",
       "        vertical-align: middle;\n",
       "    }\n",
       "\n",
       "    .dataframe tbody tr th {\n",
       "        vertical-align: top;\n",
       "    }\n",
       "\n",
       "    .dataframe thead th {\n",
       "        text-align: right;\n",
       "    }\n",
       "</style>\n",
       "<table border=\"1\" class=\"dataframe\">\n",
       "  <thead>\n",
       "    <tr style=\"text-align: right;\">\n",
       "      <th></th>\n",
       "      <th>run</th>\n",
       "      <th>operation</th>\n",
       "      <th>started</th>\n",
       "      <th>time</th>\n",
       "      <th>status</th>\n",
       "      <th>label</th>\n",
       "      <th>noise</th>\n",
       "      <th>x</th>\n",
       "      <th>step</th>\n",
       "      <th>loss</th>\n",
       "    </tr>\n",
       "  </thead>\n",
       "  <tbody>\n",
       "    <tr>\n",
       "      <th>0</th>\n",
       "      <td>52e33fa2</td>\n",
       "      <td>train()</td>\n",
       "      <td>2022-06-04 14:17:45</td>\n",
       "      <td>0 days</td>\n",
       "      <td>completed</td>\n",
       "      <td>noise=0.1 x=-0.1</td>\n",
       "      <td>0.1</td>\n",
       "      <td>-0.1</td>\n",
       "      <td>0</td>\n",
       "      <td>-0.569882</td>\n",
       "    </tr>\n",
       "    <tr>\n",
       "      <th>1</th>\n",
       "      <td>71f410a4</td>\n",
       "      <td>train()</td>\n",
       "      <td>2022-06-04 14:17:45</td>\n",
       "      <td>0 days</td>\n",
       "      <td>completed</td>\n",
       "      <td>noise=0.1 x=-0.2</td>\n",
       "      <td>0.1</td>\n",
       "      <td>-0.2</td>\n",
       "      <td>0</td>\n",
       "      <td>-0.975647</td>\n",
       "    </tr>\n",
       "    <tr>\n",
       "      <th>2</th>\n",
       "      <td>6fe5d599</td>\n",
       "      <td>train()</td>\n",
       "      <td>2022-06-04 14:17:45</td>\n",
       "      <td>0 days</td>\n",
       "      <td>completed</td>\n",
       "      <td>noise=0.1 x=-0.3</td>\n",
       "      <td>0.1</td>\n",
       "      <td>-0.3</td>\n",
       "      <td>0</td>\n",
       "      <td>-0.816842</td>\n",
       "    </tr>\n",
       "    <tr>\n",
       "      <th>3</th>\n",
       "      <td>942f1309</td>\n",
       "      <td>train()</td>\n",
       "      <td>2022-06-04 14:17:45</td>\n",
       "      <td>0 days</td>\n",
       "      <td>completed</td>\n",
       "      <td>noise=0.1 x=-0.4</td>\n",
       "      <td>0.1</td>\n",
       "      <td>-0.4</td>\n",
       "      <td>0</td>\n",
       "      <td>-0.754186</td>\n",
       "    </tr>\n",
       "    <tr>\n",
       "      <th>4</th>\n",
       "      <td>26fd0d1a</td>\n",
       "      <td>train()</td>\n",
       "      <td>2022-06-04 14:17:45</td>\n",
       "      <td>0 days</td>\n",
       "      <td>completed</td>\n",
       "      <td>noise=0.1 x=-0.5</td>\n",
       "      <td>0.1</td>\n",
       "      <td>-0.5</td>\n",
       "      <td>0</td>\n",
       "      <td>-0.421690</td>\n",
       "    </tr>\n",
       "  </tbody>\n",
       "</table>\n",
       "</div>"
      ],
      "text/plain": [
       "        run operation             started   time     status             label  \\\n",
       "0  52e33fa2   train() 2022-06-04 14:17:45 0 days  completed  noise=0.1 x=-0.1   \n",
       "1  71f410a4   train() 2022-06-04 14:17:45 0 days  completed  noise=0.1 x=-0.2   \n",
       "2  6fe5d599   train() 2022-06-04 14:17:45 0 days  completed  noise=0.1 x=-0.3   \n",
       "3  942f1309   train() 2022-06-04 14:17:45 0 days  completed  noise=0.1 x=-0.4   \n",
       "4  26fd0d1a   train() 2022-06-04 14:17:45 0 days  completed  noise=0.1 x=-0.5   \n",
       "\n",
       "   noise    x  step      loss  \n",
       "0    0.1 -0.1     0 -0.569882  \n",
       "1    0.1 -0.2     0 -0.975647  \n",
       "2    0.1 -0.3     0 -0.816842  \n",
       "3    0.1 -0.4     0 -0.754186  \n",
       "4    0.1 -0.5     0 -0.421690  "
      ]
     },
     "execution_count": 28,
     "metadata": {},
     "output_type": "execute_result"
    }
   ],
   "source": [
    "guild.runs().compare()[:5]"
   ]
  },
  {
   "cell_type": "markdown",
   "metadata": {},
   "source": [
    "View the top-three results by loss:"
   ]
  },
  {
   "cell_type": "code",
   "execution_count": 29,
   "metadata": {},
   "outputs": [
    {
     "data": {
      "text/html": [
       "<div>\n",
       "<style scoped>\n",
       "    .dataframe tbody tr th:only-of-type {\n",
       "        vertical-align: middle;\n",
       "    }\n",
       "\n",
       "    .dataframe tbody tr th {\n",
       "        vertical-align: top;\n",
       "    }\n",
       "\n",
       "    .dataframe thead th {\n",
       "        text-align: right;\n",
       "    }\n",
       "</style>\n",
       "<table border=\"1\" class=\"dataframe\">\n",
       "  <thead>\n",
       "    <tr style=\"text-align: right;\">\n",
       "      <th></th>\n",
       "      <th>run</th>\n",
       "      <th>operation</th>\n",
       "      <th>started</th>\n",
       "      <th>time</th>\n",
       "      <th>status</th>\n",
       "      <th>label</th>\n",
       "      <th>noise</th>\n",
       "      <th>x</th>\n",
       "      <th>step</th>\n",
       "      <th>loss</th>\n",
       "    </tr>\n",
       "  </thead>\n",
       "  <tbody>\n",
       "    <tr>\n",
       "      <th>1</th>\n",
       "      <td>71f410a4</td>\n",
       "      <td>train()</td>\n",
       "      <td>2022-06-04 14:17:45</td>\n",
       "      <td>0 days</td>\n",
       "      <td>completed</td>\n",
       "      <td>noise=0.1 x=-0.2</td>\n",
       "      <td>0.1</td>\n",
       "      <td>-0.2</td>\n",
       "      <td>0</td>\n",
       "      <td>-0.975647</td>\n",
       "    </tr>\n",
       "    <tr>\n",
       "      <th>2</th>\n",
       "      <td>6fe5d599</td>\n",
       "      <td>train()</td>\n",
       "      <td>2022-06-04 14:17:45</td>\n",
       "      <td>0 days</td>\n",
       "      <td>completed</td>\n",
       "      <td>noise=0.1 x=-0.3</td>\n",
       "      <td>0.1</td>\n",
       "      <td>-0.3</td>\n",
       "      <td>0</td>\n",
       "      <td>-0.816842</td>\n",
       "    </tr>\n",
       "    <tr>\n",
       "      <th>3</th>\n",
       "      <td>942f1309</td>\n",
       "      <td>train()</td>\n",
       "      <td>2022-06-04 14:17:45</td>\n",
       "      <td>0 days</td>\n",
       "      <td>completed</td>\n",
       "      <td>noise=0.1 x=-0.4</td>\n",
       "      <td>0.1</td>\n",
       "      <td>-0.4</td>\n",
       "      <td>0</td>\n",
       "      <td>-0.754186</td>\n",
       "    </tr>\n",
       "  </tbody>\n",
       "</table>\n",
       "</div>"
      ],
      "text/plain": [
       "        run operation             started   time     status             label  \\\n",
       "1  71f410a4   train() 2022-06-04 14:17:45 0 days  completed  noise=0.1 x=-0.2   \n",
       "2  6fe5d599   train() 2022-06-04 14:17:45 0 days  completed  noise=0.1 x=-0.3   \n",
       "3  942f1309   train() 2022-06-04 14:17:45 0 days  completed  noise=0.1 x=-0.4   \n",
       "\n",
       "   noise    x  step      loss  \n",
       "1    0.1 -0.2     0 -0.975647  \n",
       "2    0.1 -0.3     0 -0.816842  \n",
       "3    0.1 -0.4     0 -0.754186  "
      ]
     },
     "execution_count": 29,
     "metadata": {},
     "output_type": "execute_result"
    }
   ],
   "source": [
    "guild.runs().compare().sort_values(by=\"loss\")[:3]"
   ]
  },
  {
   "cell_type": "markdown",
   "metadata": {},
   "source": [
    "Based on our mock training function, the \"best\" result (i.e. the run with the lowest *loss*) should be the run where `x` is close to `-0.3`. Because there's a random component (i.e. the `noise` parameter) your results may show best results with different values for `x`.\n",
    "\n",
    "Below is an image that plots *loss* for values of *x*, showing the lowest loss where x is approximately `-0.3`.\n",
    "\n",
    "<img src=\"bayesian-optimization.png\" style=\"margin-left:0\">\n",
    "\n",
    "[Image credit: *Bayesian optimization with skopt*](https://scikit-optimize.github.io/notebooks/bayesian-optimization.html)"
   ]
  },
  {
   "cell_type": "markdown",
   "metadata": {},
   "source": [
    "## Random search\n",
    "\n",
    "Random search is a method used in machine learning to explore hyperparameter spaces at random.\n",
    "\n",
    "To run a series of runs using random values over a specified range, use the `slice` function to specify a range for a flag. To specify the number of trials, specify `_max_trials`. The default number of trials is `20`.\n",
    "\n",
    "Run train five times with random values of `x` over the range `-2.0` to `2.0`."
   ]
  },
  {
   "cell_type": "code",
   "execution_count": 30,
   "metadata": {},
   "outputs": [
    {
     "name": "stdout",
     "output_type": "stream",
     "text": [
      "Running train (noise=0.1, x=1.4244547843294915):\n",
      "loss: 0.048384\n",
      "Running train (noise=0.1, x=-0.7948454272117311):\n",
      "loss: 0.067583\n",
      "Running train (noise=0.1, x=0.7652979751108959):\n",
      "loss: -0.372230\n",
      "Running train (noise=0.1, x=0.5854037787599555):\n",
      "loss: -0.018798\n",
      "Running train (noise=0.1, x=1.6300373746484995):\n",
      "loss: 0.034930\n"
     ]
    }
   ],
   "source": [
    "_ = guild.run(train, x=slice(-2.0,2.0), _max_trials=5)"
   ]
  },
  {
   "cell_type": "markdown",
   "metadata": {},
   "source": [
    "Compare the results again."
   ]
  },
  {
   "cell_type": "code",
   "execution_count": 31,
   "metadata": {},
   "outputs": [
    {
     "data": {
      "text/html": [
       "<div>\n",
       "<style scoped>\n",
       "    .dataframe tbody tr th:only-of-type {\n",
       "        vertical-align: middle;\n",
       "    }\n",
       "\n",
       "    .dataframe tbody tr th {\n",
       "        vertical-align: top;\n",
       "    }\n",
       "\n",
       "    .dataframe thead th {\n",
       "        text-align: right;\n",
       "    }\n",
       "</style>\n",
       "<table border=\"1\" class=\"dataframe\">\n",
       "  <thead>\n",
       "    <tr style=\"text-align: right;\">\n",
       "      <th></th>\n",
       "      <th>run</th>\n",
       "      <th>operation</th>\n",
       "      <th>started</th>\n",
       "      <th>time</th>\n",
       "      <th>status</th>\n",
       "      <th>label</th>\n",
       "      <th>noise</th>\n",
       "      <th>x</th>\n",
       "      <th>step</th>\n",
       "      <th>loss</th>\n",
       "    </tr>\n",
       "  </thead>\n",
       "  <tbody>\n",
       "    <tr>\n",
       "      <th>0</th>\n",
       "      <td>0c769e67</td>\n",
       "      <td>train()</td>\n",
       "      <td>2022-06-04 14:17:46</td>\n",
       "      <td>0 days</td>\n",
       "      <td>completed</td>\n",
       "      <td>noise=0.1 x=1.63003</td>\n",
       "      <td>0.1</td>\n",
       "      <td>1.630037</td>\n",
       "      <td>0</td>\n",
       "      <td>0.034930</td>\n",
       "    </tr>\n",
       "    <tr>\n",
       "      <th>1</th>\n",
       "      <td>0e6f6330</td>\n",
       "      <td>train()</td>\n",
       "      <td>2022-06-04 14:17:46</td>\n",
       "      <td>0 days</td>\n",
       "      <td>completed</td>\n",
       "      <td>noise=0.1 x=0.58540</td>\n",
       "      <td>0.1</td>\n",
       "      <td>0.585404</td>\n",
       "      <td>0</td>\n",
       "      <td>-0.018798</td>\n",
       "    </tr>\n",
       "    <tr>\n",
       "      <th>2</th>\n",
       "      <td>986396f7</td>\n",
       "      <td>train()</td>\n",
       "      <td>2022-06-04 14:17:46</td>\n",
       "      <td>0 days</td>\n",
       "      <td>completed</td>\n",
       "      <td>noise=0.1 x=0.76529</td>\n",
       "      <td>0.1</td>\n",
       "      <td>0.765298</td>\n",
       "      <td>0</td>\n",
       "      <td>-0.372230</td>\n",
       "    </tr>\n",
       "    <tr>\n",
       "      <th>3</th>\n",
       "      <td>1c91855f</td>\n",
       "      <td>train()</td>\n",
       "      <td>2022-06-04 14:17:46</td>\n",
       "      <td>0 days</td>\n",
       "      <td>completed</td>\n",
       "      <td>noise=0.1 x=-0.79484</td>\n",
       "      <td>0.1</td>\n",
       "      <td>-0.794845</td>\n",
       "      <td>0</td>\n",
       "      <td>0.067583</td>\n",
       "    </tr>\n",
       "    <tr>\n",
       "      <th>4</th>\n",
       "      <td>3e55894a</td>\n",
       "      <td>train()</td>\n",
       "      <td>2022-06-04 14:17:46</td>\n",
       "      <td>0 days</td>\n",
       "      <td>completed</td>\n",
       "      <td>noise=0.1 x=1.42445</td>\n",
       "      <td>0.1</td>\n",
       "      <td>1.424455</td>\n",
       "      <td>0</td>\n",
       "      <td>0.048384</td>\n",
       "    </tr>\n",
       "    <tr>\n",
       "      <th>5</th>\n",
       "      <td>52e33fa2</td>\n",
       "      <td>train()</td>\n",
       "      <td>2022-06-04 14:17:45</td>\n",
       "      <td>0 days</td>\n",
       "      <td>completed</td>\n",
       "      <td>noise=0.1 x=-0.1</td>\n",
       "      <td>0.1</td>\n",
       "      <td>-0.100000</td>\n",
       "      <td>0</td>\n",
       "      <td>-0.569882</td>\n",
       "    </tr>\n",
       "    <tr>\n",
       "      <th>6</th>\n",
       "      <td>71f410a4</td>\n",
       "      <td>train()</td>\n",
       "      <td>2022-06-04 14:17:45</td>\n",
       "      <td>0 days</td>\n",
       "      <td>completed</td>\n",
       "      <td>noise=0.1 x=-0.2</td>\n",
       "      <td>0.1</td>\n",
       "      <td>-0.200000</td>\n",
       "      <td>0</td>\n",
       "      <td>-0.975647</td>\n",
       "    </tr>\n",
       "    <tr>\n",
       "      <th>7</th>\n",
       "      <td>6fe5d599</td>\n",
       "      <td>train()</td>\n",
       "      <td>2022-06-04 14:17:45</td>\n",
       "      <td>0 days</td>\n",
       "      <td>completed</td>\n",
       "      <td>noise=0.1 x=-0.3</td>\n",
       "      <td>0.1</td>\n",
       "      <td>-0.300000</td>\n",
       "      <td>0</td>\n",
       "      <td>-0.816842</td>\n",
       "    </tr>\n",
       "    <tr>\n",
       "      <th>8</th>\n",
       "      <td>942f1309</td>\n",
       "      <td>train()</td>\n",
       "      <td>2022-06-04 14:17:45</td>\n",
       "      <td>0 days</td>\n",
       "      <td>completed</td>\n",
       "      <td>noise=0.1 x=-0.4</td>\n",
       "      <td>0.1</td>\n",
       "      <td>-0.400000</td>\n",
       "      <td>0</td>\n",
       "      <td>-0.754186</td>\n",
       "    </tr>\n",
       "    <tr>\n",
       "      <th>9</th>\n",
       "      <td>26fd0d1a</td>\n",
       "      <td>train()</td>\n",
       "      <td>2022-06-04 14:17:45</td>\n",
       "      <td>0 days</td>\n",
       "      <td>completed</td>\n",
       "      <td>noise=0.1 x=-0.5</td>\n",
       "      <td>0.1</td>\n",
       "      <td>-0.500000</td>\n",
       "      <td>0</td>\n",
       "      <td>-0.421690</td>\n",
       "    </tr>\n",
       "    <tr>\n",
       "      <th>10</th>\n",
       "      <td>652cc72a</td>\n",
       "      <td>train()</td>\n",
       "      <td>2022-06-04 14:17:45</td>\n",
       "      <td>0 days</td>\n",
       "      <td>completed</td>\n",
       "      <td>run 2</td>\n",
       "      <td>0.1</td>\n",
       "      <td>0.200000</td>\n",
       "      <td>0</td>\n",
       "      <td>0.755420</td>\n",
       "    </tr>\n",
       "    <tr>\n",
       "      <th>11</th>\n",
       "      <td>f8fd8c3d</td>\n",
       "      <td>train()</td>\n",
       "      <td>2022-06-04 14:17:43</td>\n",
       "      <td>0 days</td>\n",
       "      <td>completed</td>\n",
       "      <td>noise=0.1 x=0.1</td>\n",
       "      <td>0.1</td>\n",
       "      <td>0.100000</td>\n",
       "      <td>0</td>\n",
       "      <td>0.440338</td>\n",
       "    </tr>\n",
       "  </tbody>\n",
       "</table>\n",
       "</div>"
      ],
      "text/plain": [
       "         run operation             started   time     status  \\\n",
       "0   0c769e67   train() 2022-06-04 14:17:46 0 days  completed   \n",
       "1   0e6f6330   train() 2022-06-04 14:17:46 0 days  completed   \n",
       "2   986396f7   train() 2022-06-04 14:17:46 0 days  completed   \n",
       "3   1c91855f   train() 2022-06-04 14:17:46 0 days  completed   \n",
       "4   3e55894a   train() 2022-06-04 14:17:46 0 days  completed   \n",
       "5   52e33fa2   train() 2022-06-04 14:17:45 0 days  completed   \n",
       "6   71f410a4   train() 2022-06-04 14:17:45 0 days  completed   \n",
       "7   6fe5d599   train() 2022-06-04 14:17:45 0 days  completed   \n",
       "8   942f1309   train() 2022-06-04 14:17:45 0 days  completed   \n",
       "9   26fd0d1a   train() 2022-06-04 14:17:45 0 days  completed   \n",
       "10  652cc72a   train() 2022-06-04 14:17:45 0 days  completed   \n",
       "11  f8fd8c3d   train() 2022-06-04 14:17:43 0 days  completed   \n",
       "\n",
       "                   label  noise         x  step      loss  \n",
       "0    noise=0.1 x=1.63003    0.1  1.630037     0  0.034930  \n",
       "1    noise=0.1 x=0.58540    0.1  0.585404     0 -0.018798  \n",
       "2    noise=0.1 x=0.76529    0.1  0.765298     0 -0.372230  \n",
       "3   noise=0.1 x=-0.79484    0.1 -0.794845     0  0.067583  \n",
       "4    noise=0.1 x=1.42445    0.1  1.424455     0  0.048384  \n",
       "5       noise=0.1 x=-0.1    0.1 -0.100000     0 -0.569882  \n",
       "6       noise=0.1 x=-0.2    0.1 -0.200000     0 -0.975647  \n",
       "7       noise=0.1 x=-0.3    0.1 -0.300000     0 -0.816842  \n",
       "8       noise=0.1 x=-0.4    0.1 -0.400000     0 -0.754186  \n",
       "9       noise=0.1 x=-0.5    0.1 -0.500000     0 -0.421690  \n",
       "10                 run 2    0.1  0.200000     0  0.755420  \n",
       "11       noise=0.1 x=0.1    0.1  0.100000     0  0.440338  "
      ]
     },
     "execution_count": 31,
     "metadata": {},
     "output_type": "execute_result"
    }
   ],
   "source": [
    "guild.runs().compare()"
   ]
  },
  {
   "cell_type": "markdown",
   "metadata": {},
   "source": [
    "List the three runs with the lowest loss:"
   ]
  },
  {
   "cell_type": "code",
   "execution_count": 32,
   "metadata": {},
   "outputs": [
    {
     "data": {
      "text/html": [
       "<div>\n",
       "<style scoped>\n",
       "    .dataframe tbody tr th:only-of-type {\n",
       "        vertical-align: middle;\n",
       "    }\n",
       "\n",
       "    .dataframe tbody tr th {\n",
       "        vertical-align: top;\n",
       "    }\n",
       "\n",
       "    .dataframe thead th {\n",
       "        text-align: right;\n",
       "    }\n",
       "</style>\n",
       "<table border=\"1\" class=\"dataframe\">\n",
       "  <thead>\n",
       "    <tr style=\"text-align: right;\">\n",
       "      <th></th>\n",
       "      <th>run</th>\n",
       "      <th>operation</th>\n",
       "      <th>started</th>\n",
       "      <th>time</th>\n",
       "      <th>status</th>\n",
       "      <th>label</th>\n",
       "      <th>noise</th>\n",
       "      <th>x</th>\n",
       "      <th>step</th>\n",
       "      <th>loss</th>\n",
       "    </tr>\n",
       "  </thead>\n",
       "  <tbody>\n",
       "    <tr>\n",
       "      <th>6</th>\n",
       "      <td>71f410a4</td>\n",
       "      <td>train()</td>\n",
       "      <td>2022-06-04 14:17:45</td>\n",
       "      <td>0 days</td>\n",
       "      <td>completed</td>\n",
       "      <td>noise=0.1 x=-0.2</td>\n",
       "      <td>0.1</td>\n",
       "      <td>-0.2</td>\n",
       "      <td>0</td>\n",
       "      <td>-0.975647</td>\n",
       "    </tr>\n",
       "    <tr>\n",
       "      <th>7</th>\n",
       "      <td>6fe5d599</td>\n",
       "      <td>train()</td>\n",
       "      <td>2022-06-04 14:17:45</td>\n",
       "      <td>0 days</td>\n",
       "      <td>completed</td>\n",
       "      <td>noise=0.1 x=-0.3</td>\n",
       "      <td>0.1</td>\n",
       "      <td>-0.3</td>\n",
       "      <td>0</td>\n",
       "      <td>-0.816842</td>\n",
       "    </tr>\n",
       "    <tr>\n",
       "      <th>8</th>\n",
       "      <td>942f1309</td>\n",
       "      <td>train()</td>\n",
       "      <td>2022-06-04 14:17:45</td>\n",
       "      <td>0 days</td>\n",
       "      <td>completed</td>\n",
       "      <td>noise=0.1 x=-0.4</td>\n",
       "      <td>0.1</td>\n",
       "      <td>-0.4</td>\n",
       "      <td>0</td>\n",
       "      <td>-0.754186</td>\n",
       "    </tr>\n",
       "  </tbody>\n",
       "</table>\n",
       "</div>"
      ],
      "text/plain": [
       "        run operation             started   time     status             label  \\\n",
       "6  71f410a4   train() 2022-06-04 14:17:45 0 days  completed  noise=0.1 x=-0.2   \n",
       "7  6fe5d599   train() 2022-06-04 14:17:45 0 days  completed  noise=0.1 x=-0.3   \n",
       "8  942f1309   train() 2022-06-04 14:17:45 0 days  completed  noise=0.1 x=-0.4   \n",
       "\n",
       "   noise    x  step      loss  \n",
       "6    0.1 -0.2     0 -0.975647  \n",
       "7    0.1 -0.3     0 -0.816842  \n",
       "8    0.1 -0.4     0 -0.754186  "
      ]
     },
     "execution_count": 32,
     "metadata": {},
     "output_type": "execute_result"
    }
   ],
   "source": [
    "guild.runs().compare().sort_values(by=\"loss\")[:3]"
   ]
  },
  {
   "cell_type": "markdown",
   "metadata": {},
   "source": [
    "## Bayesian optimization\n",
    "\n",
    "Bayesian optimizers use light weight models as surrogates for the target model — surrogates that can be evaluated quickly to recommend likely optimal hyperparameter values — and update those models using results from real trials."
   ]
  },
  {
   "cell_type": "markdown",
   "metadata": {},
   "source": [
    "Run `train` with Guild’s built-in Bayesian optimizer, which uses Gaussian processes. As with the earlier random search, we use Python's slice function to specify the range for `x` over which to search.\n",
    "\n",
    "**NOTE:** The argument `bayesian` in the command is an alias for `gp`, which is a Bayesian optimizer that uses Gaussian processes. Guild supports three Bayesian optimizers: gp, forest and gbrt."
   ]
  },
  {
   "cell_type": "code",
   "execution_count": 33,
   "metadata": {},
   "outputs": [
    {
     "name": "stdout",
     "output_type": "stream",
     "text": [
      "Running train (noise=0.1, x=-1.1758081439824355):\n",
      "loss: -0.026150\n",
      "Running train (noise=0.1, x=0.7113735240607029):\n",
      "loss: -0.114339\n",
      "Running train (noise=0.1, x=-0.19532758815610585):\n",
      "loss: -0.661904\n",
      "Running train (noise=0.1, x=1.9987881431081385):\n",
      "loss: 0.031694\n",
      "Running train (noise=0.1, x=-0.13105758798427658):\n",
      "loss: -0.620627\n",
      "Running train (noise=0.1, x=-0.38048825224185445):\n",
      "loss: -0.761236\n",
      "Running train (noise=0.1, x=-0.4465757653998774):\n",
      "loss: -0.711492\n",
      "Running train (noise=0.1, x=-2.0):\n",
      "loss: 0.093754\n",
      "Running train (noise=0.1, x=-0.3408864093867128):\n",
      "loss: -0.762769\n",
      "Running train (noise=0.1, x=0.21995365949587908):\n",
      "loss: 0.830106\n"
     ]
    }
   ],
   "source": [
    "_ = guild.run(train, x=slice(-2.0,2.0), _optimizer=\"bayesian\", _max_trials=10)"
   ]
  },
  {
   "cell_type": "markdown",
   "metadata": {},
   "source": [
    "View the top 10 results:"
   ]
  },
  {
   "cell_type": "code",
   "execution_count": 34,
   "metadata": {},
   "outputs": [
    {
     "data": {
      "text/html": [
       "<div>\n",
       "<style scoped>\n",
       "    .dataframe tbody tr th:only-of-type {\n",
       "        vertical-align: middle;\n",
       "    }\n",
       "\n",
       "    .dataframe tbody tr th {\n",
       "        vertical-align: top;\n",
       "    }\n",
       "\n",
       "    .dataframe thead th {\n",
       "        text-align: right;\n",
       "    }\n",
       "</style>\n",
       "<table border=\"1\" class=\"dataframe\">\n",
       "  <thead>\n",
       "    <tr style=\"text-align: right;\">\n",
       "      <th></th>\n",
       "      <th>run</th>\n",
       "      <th>operation</th>\n",
       "      <th>started</th>\n",
       "      <th>time</th>\n",
       "      <th>status</th>\n",
       "      <th>label</th>\n",
       "      <th>noise</th>\n",
       "      <th>x</th>\n",
       "      <th>step</th>\n",
       "      <th>loss</th>\n",
       "    </tr>\n",
       "  </thead>\n",
       "  <tbody>\n",
       "    <tr>\n",
       "      <th>16</th>\n",
       "      <td>71f410a4</td>\n",
       "      <td>train()</td>\n",
       "      <td>2022-06-04 14:17:45</td>\n",
       "      <td>0 days</td>\n",
       "      <td>completed</td>\n",
       "      <td>noise=0.1 x=-0.2</td>\n",
       "      <td>0.1</td>\n",
       "      <td>-0.200000</td>\n",
       "      <td>0</td>\n",
       "      <td>-0.975647</td>\n",
       "    </tr>\n",
       "    <tr>\n",
       "      <th>17</th>\n",
       "      <td>6fe5d599</td>\n",
       "      <td>train()</td>\n",
       "      <td>2022-06-04 14:17:45</td>\n",
       "      <td>0 days</td>\n",
       "      <td>completed</td>\n",
       "      <td>noise=0.1 x=-0.3</td>\n",
       "      <td>0.1</td>\n",
       "      <td>-0.300000</td>\n",
       "      <td>0</td>\n",
       "      <td>-0.816842</td>\n",
       "    </tr>\n",
       "    <tr>\n",
       "      <th>1</th>\n",
       "      <td>f71c6966</td>\n",
       "      <td>train()</td>\n",
       "      <td>2022-06-04 14:17:51</td>\n",
       "      <td>0 days</td>\n",
       "      <td>completed</td>\n",
       "      <td>noise=0.1 x=-0.34088</td>\n",
       "      <td>0.1</td>\n",
       "      <td>-0.340886</td>\n",
       "      <td>0</td>\n",
       "      <td>-0.762769</td>\n",
       "    </tr>\n",
       "    <tr>\n",
       "      <th>4</th>\n",
       "      <td>1076c27e</td>\n",
       "      <td>train()</td>\n",
       "      <td>2022-06-04 14:17:49</td>\n",
       "      <td>0 days</td>\n",
       "      <td>completed</td>\n",
       "      <td>noise=0.1 x=-0.38048</td>\n",
       "      <td>0.1</td>\n",
       "      <td>-0.380488</td>\n",
       "      <td>0</td>\n",
       "      <td>-0.761236</td>\n",
       "    </tr>\n",
       "    <tr>\n",
       "      <th>18</th>\n",
       "      <td>942f1309</td>\n",
       "      <td>train()</td>\n",
       "      <td>2022-06-04 14:17:45</td>\n",
       "      <td>0 days</td>\n",
       "      <td>completed</td>\n",
       "      <td>noise=0.1 x=-0.4</td>\n",
       "      <td>0.1</td>\n",
       "      <td>-0.400000</td>\n",
       "      <td>0</td>\n",
       "      <td>-0.754186</td>\n",
       "    </tr>\n",
       "    <tr>\n",
       "      <th>3</th>\n",
       "      <td>b38e184c</td>\n",
       "      <td>train()</td>\n",
       "      <td>2022-06-04 14:17:49</td>\n",
       "      <td>0 days</td>\n",
       "      <td>completed</td>\n",
       "      <td>noise=0.1 x=-0.44657</td>\n",
       "      <td>0.1</td>\n",
       "      <td>-0.446576</td>\n",
       "      <td>0</td>\n",
       "      <td>-0.711492</td>\n",
       "    </tr>\n",
       "    <tr>\n",
       "      <th>7</th>\n",
       "      <td>686885f8</td>\n",
       "      <td>train()</td>\n",
       "      <td>2022-06-04 14:17:47</td>\n",
       "      <td>0 days</td>\n",
       "      <td>completed</td>\n",
       "      <td>noise=0.1 x=-0.19532</td>\n",
       "      <td>0.1</td>\n",
       "      <td>-0.195328</td>\n",
       "      <td>0</td>\n",
       "      <td>-0.661904</td>\n",
       "    </tr>\n",
       "    <tr>\n",
       "      <th>5</th>\n",
       "      <td>2af9d239</td>\n",
       "      <td>train()</td>\n",
       "      <td>2022-06-04 14:17:48</td>\n",
       "      <td>0 days</td>\n",
       "      <td>completed</td>\n",
       "      <td>noise=0.1 x=-0.13105</td>\n",
       "      <td>0.1</td>\n",
       "      <td>-0.131058</td>\n",
       "      <td>0</td>\n",
       "      <td>-0.620627</td>\n",
       "    </tr>\n",
       "    <tr>\n",
       "      <th>15</th>\n",
       "      <td>52e33fa2</td>\n",
       "      <td>train()</td>\n",
       "      <td>2022-06-04 14:17:45</td>\n",
       "      <td>0 days</td>\n",
       "      <td>completed</td>\n",
       "      <td>noise=0.1 x=-0.1</td>\n",
       "      <td>0.1</td>\n",
       "      <td>-0.100000</td>\n",
       "      <td>0</td>\n",
       "      <td>-0.569882</td>\n",
       "    </tr>\n",
       "    <tr>\n",
       "      <th>19</th>\n",
       "      <td>26fd0d1a</td>\n",
       "      <td>train()</td>\n",
       "      <td>2022-06-04 14:17:45</td>\n",
       "      <td>0 days</td>\n",
       "      <td>completed</td>\n",
       "      <td>noise=0.1 x=-0.5</td>\n",
       "      <td>0.1</td>\n",
       "      <td>-0.500000</td>\n",
       "      <td>0</td>\n",
       "      <td>-0.421690</td>\n",
       "    </tr>\n",
       "  </tbody>\n",
       "</table>\n",
       "</div>"
      ],
      "text/plain": [
       "         run operation             started   time     status  \\\n",
       "16  71f410a4   train() 2022-06-04 14:17:45 0 days  completed   \n",
       "17  6fe5d599   train() 2022-06-04 14:17:45 0 days  completed   \n",
       "1   f71c6966   train() 2022-06-04 14:17:51 0 days  completed   \n",
       "4   1076c27e   train() 2022-06-04 14:17:49 0 days  completed   \n",
       "18  942f1309   train() 2022-06-04 14:17:45 0 days  completed   \n",
       "3   b38e184c   train() 2022-06-04 14:17:49 0 days  completed   \n",
       "7   686885f8   train() 2022-06-04 14:17:47 0 days  completed   \n",
       "5   2af9d239   train() 2022-06-04 14:17:48 0 days  completed   \n",
       "15  52e33fa2   train() 2022-06-04 14:17:45 0 days  completed   \n",
       "19  26fd0d1a   train() 2022-06-04 14:17:45 0 days  completed   \n",
       "\n",
       "                   label  noise         x  step      loss  \n",
       "16      noise=0.1 x=-0.2    0.1 -0.200000     0 -0.975647  \n",
       "17      noise=0.1 x=-0.3    0.1 -0.300000     0 -0.816842  \n",
       "1   noise=0.1 x=-0.34088    0.1 -0.340886     0 -0.762769  \n",
       "4   noise=0.1 x=-0.38048    0.1 -0.380488     0 -0.761236  \n",
       "18      noise=0.1 x=-0.4    0.1 -0.400000     0 -0.754186  \n",
       "3   noise=0.1 x=-0.44657    0.1 -0.446576     0 -0.711492  \n",
       "7   noise=0.1 x=-0.19532    0.1 -0.195328     0 -0.661904  \n",
       "5   noise=0.1 x=-0.13105    0.1 -0.131058     0 -0.620627  \n",
       "15      noise=0.1 x=-0.1    0.1 -0.100000     0 -0.569882  \n",
       "19      noise=0.1 x=-0.5    0.1 -0.500000     0 -0.421690  "
      ]
     },
     "execution_count": 34,
     "metadata": {},
     "output_type": "execute_result"
    }
   ],
   "source": [
    "guild.runs().compare().sort_values(by=\"loss\")[:10]"
   ]
  },
  {
   "cell_type": "markdown",
   "metadata": {},
   "source": [
    "## Next steps\n",
    "\n",
    "This Notebook covers basic functionality provided by the `guild.ipy` module. The module lets you run functions and capture results as unique runs. You can view and compare run results using various module functions.\n",
    "\n",
    "Generated runs can be further managed using the Guild command line interface. For more information, refer to [Guild AI Quick Start](https://guild.ai/docs/start/)."
   ]
  }
 ],
 "metadata": {
  "interpreter": {
   "hash": "949777d72b0d2535278d3dc13498b2535136f6dfe0678499012e853ee9abcab1"
  },
  "kernelspec": {
   "display_name": "Python 2",
   "language": "python",
   "name": "python3"
  },
  "language_info": {
   "codemirror_mode": {
    "name": "ipython",
    "version": 3
   },
   "file_extension": ".py",
   "mimetype": "text/x-python",
   "name": "python",
   "nbconvert_exporter": "python",
   "pygments_lexer": "ipython3",
   "version": "3.10.2"
  }
 },
 "nbformat": 4,
 "nbformat_minor": 2
}
