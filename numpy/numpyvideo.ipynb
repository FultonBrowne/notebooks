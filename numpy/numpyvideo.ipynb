{
 "cells": [
  {
   "cell_type": "markdown",
   "metadata": {},
   "source": [
    "Following video https://www.youtube.com/watch?v=w8yWXqWQYmU&list=WL&index=3\n",
    "\n",
    "Using the MNIST dataset"
   ]
  },
  {
   "cell_type": "markdown",
   "metadata": {},
   "source": [
    "layers all sames size 1 input 1 hidden 1 out\n",
    "\n",
    "Forward propigation, compute going \"forward\" in the network\n",
    "\n",
    "back prop go back and find where params are off and adjust by the learning rate"
   ]
  },
  {
   "cell_type": "code",
   "execution_count": null,
   "metadata": {},
   "outputs": [],
   "source": []
  }
 ],
 "metadata": {
  "language_info": {
   "name": "python"
  },
  "orig_nbformat": 4
 },
 "nbformat": 4,
 "nbformat_minor": 2
}
